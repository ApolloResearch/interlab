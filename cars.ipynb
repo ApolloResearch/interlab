{
 "cells": [
  {
   "cell_type": "code",
   "execution_count": 5,
   "id": "ff3ce976-62cb-4f0b-a003-dd22df1edaa3",
   "metadata": {},
   "outputs": [
    {
     "name": "stdout",
     "output_type": "stream",
     "text": [
      "The autoreload extension is already loaded. To reload it, use:\n",
      "  %reload_ext autoreload\n"
     ]
    }
   ],
   "source": [
    "%load_ext autoreload\n",
    "%autoreload 2\n",
    "\n",
    "import querychains\n",
    "from querychains import Actor, OpenAiChatEngine, AnthropicEngine, repeat_on_failure, ParsingFailure, Context, FileStorage, start_server, parse_tag, with_context\n",
    "import json"
   ]
  },
  {
   "cell_type": "code",
   "execution_count": 6,
   "id": "2e8ba858-9eac-43f1-a29d-61c1289b5f8b",
   "metadata": {},
   "outputs": [
    {
     "data": {
      "text/plain": [
       "<ServerHandle>"
      ]
     },
     "execution_count": 6,
     "metadata": {},
     "output_type": "execute_result"
    },
    {
     "name": "stderr",
     "output_type": "stream",
     "text": [
      "INFO:     Started server process [47460]\n",
      "INFO:     Waiting for application startup.\n",
      "INFO:     Application startup complete.\n",
      "INFO:     Uvicorn running on http://127.0.0.1:40607 (Press CTRL+C to quit)\n"
     ]
    }
   ],
   "source": [
    "storage = FileStorage(\"cars_t2\")\n",
    "storage.start_server()"
   ]
  },
  {
   "cell_type": "code",
   "execution_count": 8,
   "id": "740f9fae-e8a3-460d-98f4-a48ca3384df6",
   "metadata": {},
   "outputs": [
    {
     "name": "stderr",
     "output_type": "stream",
     "text": [
      "[2023-06-21 21:23:40,306] INFO(querychains): Created OpenAIEngine with API_KEY='sk-SVVl[...] and API_ORG='org-3Oa6[...], model=gpt-3.5-turbo\n"
     ]
    },
    {
     "name": "stdout",
     "output_type": "stream",
     "text": [
      "Turn 0: Alice\n",
      "value estimate: 2800.0\n",
      "Turn 1: Bob\n",
      "value estimate: 3000.0\n",
      "Turn 2: Alice\n",
      "value estimate: 2700.0\n",
      "Turn 3: Bob\n",
      "value estimate: 2900.0\n",
      "Turn 4: Alice\n",
      "value estimate: 2800.0\n",
      "Turn 5: Bob\n"
     ]
    },
    {
     "ename": "QueryFailure",
     "evalue": "Subqueries failed on all 3 repetitions",
     "output_type": "error",
     "traceback": [
      "\u001b[0;31m---------------------------------------------------------------------------\u001b[0m",
      "\u001b[0;31mQueryFailure\u001b[0m                              Traceback (most recent call last)",
      "Cell \u001b[0;32mIn[8], line 136\u001b[0m\n\u001b[1;32m    133\u001b[0m     \u001b[38;5;28;01mreturn\u001b[39;00m \u001b[38;5;124m\"\u001b[39m\u001b[38;5;124mTIMEOUT\u001b[39m\u001b[38;5;124m\"\u001b[39m\n\u001b[1;32m    135\u001b[0m \u001b[38;5;28;01mwith\u001b[39;00m Context(\u001b[38;5;124m\"\u001b[39m\u001b[38;5;124mgame-claude\u001b[39m\u001b[38;5;124m\"\u001b[39m, storage\u001b[38;5;241m=\u001b[39mstorage) \u001b[38;5;28;01mas\u001b[39;00m c:\n\u001b[0;32m--> 136\u001b[0m     r \u001b[38;5;241m=\u001b[39m \u001b[43mplay_game\u001b[49m\u001b[43m(\u001b[49m\u001b[38;5;241;43m10\u001b[39;49m\u001b[43m)\u001b[49m\n\u001b[1;32m    137\u001b[0m     c\u001b[38;5;241m.\u001b[39mset_result(r)\n\u001b[1;32m    138\u001b[0m     \u001b[38;5;28mprint\u001b[39m(\u001b[38;5;124mf\u001b[39m\u001b[38;5;124m\"\u001b[39m\u001b[38;5;124mDone: \u001b[39m\u001b[38;5;132;01m{\u001b[39;00mr\u001b[38;5;132;01m}\u001b[39;00m\u001b[38;5;124m\"\u001b[39m)\n",
      "Cell \u001b[0;32mIn[8], line 107\u001b[0m, in \u001b[0;36mplay_game\u001b[0;34m(max_turns)\u001b[0m\n\u001b[1;32m    105\u001b[0m \u001b[38;5;28;01mwith\u001b[39;00m Context(\u001b[38;5;124mf\u001b[39m\u001b[38;5;124m\"\u001b[39m\u001b[38;5;124mTurn \u001b[39m\u001b[38;5;132;01m{\u001b[39;00mi\u001b[38;5;132;01m}\u001b[39;00m\u001b[38;5;124m: \u001b[39m\u001b[38;5;132;01m{\u001b[39;00mplayer\u001b[38;5;241m.\u001b[39mname\u001b[38;5;132;01m}\u001b[39;00m\u001b[38;5;124m\"\u001b[39m) \u001b[38;5;28;01mas\u001b[39;00m c:\n\u001b[1;32m    106\u001b[0m     \u001b[38;5;28mprint\u001b[39m(c\u001b[38;5;241m.\u001b[39mname)\n\u001b[0;32m--> 107\u001b[0m     action \u001b[38;5;241m=\u001b[39m \u001b[43mplayer\u001b[49m\u001b[38;5;241;43m.\u001b[39;49m\u001b[43mact\u001b[49m\u001b[43m(\u001b[49m\u001b[43m)\u001b[49m\n\u001b[1;32m    108\u001b[0m     player\u001b[38;5;241m.\u001b[39mobserve(\u001b[38;5;124mf\u001b[39m\u001b[38;5;124m\"\u001b[39m\u001b[38;5;132;01m{\u001b[39;00mplayer\u001b[38;5;241m.\u001b[39mname\u001b[38;5;132;01m}\u001b[39;00m\u001b[38;5;124m: \u001b[39m\u001b[38;5;132;01m{\u001b[39;00maction\u001b[38;5;132;01m}\u001b[39;00m\u001b[38;5;124m\"\u001b[39m)\n\u001b[1;32m    109\u001b[0m     other\u001b[38;5;241m.\u001b[39mobserve(\u001b[38;5;124mf\u001b[39m\u001b[38;5;124m\"\u001b[39m\u001b[38;5;132;01m{\u001b[39;00mplayer\u001b[38;5;241m.\u001b[39mname\u001b[38;5;132;01m}\u001b[39;00m\u001b[38;5;124m: \u001b[39m\u001b[38;5;132;01m{\u001b[39;00maction\u001b[38;5;132;01m}\u001b[39;00m\u001b[38;5;124m\"\u001b[39m)\n",
      "File \u001b[0;32m~/proj/querylab/querychains/actor.py:43\u001b[0m, in \u001b[0;36mActor.act\u001b[0;34m(self, prompt)\u001b[0m\n\u001b[1;32m     41\u001b[0m     inputs \u001b[38;5;241m=\u001b[39m \u001b[38;5;28;01mNone\u001b[39;00m\n\u001b[1;32m     42\u001b[0m \u001b[38;5;28;01mwith\u001b[39;00m Context(name, kind\u001b[38;5;241m=\u001b[39m\u001b[38;5;124m\"\u001b[39m\u001b[38;5;124maction\u001b[39m\u001b[38;5;124m\"\u001b[39m, meta\u001b[38;5;241m=\u001b[39m\u001b[38;5;28mself\u001b[39m\u001b[38;5;241m.\u001b[39mctx_meta, inputs\u001b[38;5;241m=\u001b[39minputs) \u001b[38;5;28;01mas\u001b[39;00m c:\n\u001b[0;32m---> 43\u001b[0m     action \u001b[38;5;241m=\u001b[39m \u001b[38;5;28;43mself\u001b[39;49m\u001b[38;5;241;43m.\u001b[39;49m\u001b[43mget_action\u001b[49m\u001b[43m(\u001b[49m\u001b[43mprompt\u001b[49m\u001b[43m)\u001b[49m\n\u001b[1;32m     44\u001b[0m     \u001b[38;5;28mself\u001b[39m\u001b[38;5;241m.\u001b[39mevents\u001b[38;5;241m.\u001b[39mappend(EventAction(prompt, action))\n\u001b[1;32m     45\u001b[0m     c\u001b[38;5;241m.\u001b[39mset_result(action)\n",
      "Cell \u001b[0;32mIn[8], line 82\u001b[0m, in \u001b[0;36mAB.get_action\u001b[0;34m(self, _prompt)\u001b[0m\n\u001b[1;32m     80\u001b[0m     e \u001b[38;5;241m=\u001b[39m parse_tag(\u001b[38;5;124m\"\u001b[39m\u001b[38;5;124me\u001b[39m\u001b[38;5;124m\"\u001b[39m, thoughts, required\u001b[38;5;241m=\u001b[39m\u001b[38;5;28;01mTrue\u001b[39;00m, parse\u001b[38;5;241m=\u001b[39m\u001b[38;5;28mfloat\u001b[39m)\n\u001b[1;32m     81\u001b[0m     \u001b[38;5;28;01mreturn\u001b[39;00m e, thoughts\n\u001b[0;32m---> 82\u001b[0m val_est, thoughts \u001b[38;5;241m=\u001b[39m \u001b[43mrepeat_on_failure\u001b[49m\u001b[43m(\u001b[49m\u001b[43mget_thoughts\u001b[49m\u001b[43m)\u001b[49m\n\u001b[1;32m     83\u001b[0m \u001b[38;5;28mprint\u001b[39m(\u001b[38;5;124mf\u001b[39m\u001b[38;5;124m\"\u001b[39m\u001b[38;5;124mvalue estimate: \u001b[39m\u001b[38;5;132;01m{\u001b[39;00mval_est\u001b[38;5;132;01m}\u001b[39;00m\u001b[38;5;124m\"\u001b[39m)\n\u001b[1;32m     85\u001b[0m action \u001b[38;5;241m=\u001b[39m \u001b[38;5;28mself\u001b[39m\u001b[38;5;241m.\u001b[39mengine\u001b[38;5;241m.\u001b[39mquery(\u001b[38;5;124mf\u001b[39m\u001b[38;5;124m\"\"\"\u001b[39m\n\u001b[1;32m     86\u001b[0m \u001b[38;5;124m    \u001b[39m\u001b[38;5;132;01m{\u001b[39;00mopening\u001b[38;5;132;01m}\u001b[39;00m\u001b[38;5;130;01m\\n\u001b[39;00m\u001b[38;5;124m            \u001b[39m\n\u001b[1;32m     87\u001b[0m \u001b[38;5;124m    # Here are some thoughts as \u001b[39m\u001b[38;5;132;01m{\u001b[39;00m\u001b[38;5;28mself\u001b[39m\u001b[38;5;241m.\u001b[39mname\u001b[38;5;132;01m}\u001b[39;00m\u001b[38;5;130;01m\\n\u001b[39;00m\n\u001b[1;32m     88\u001b[0m \u001b[38;5;124m    \u001b[39m\u001b[38;5;132;01m{\u001b[39;00mthoughts\u001b[38;5;132;01m}\u001b[39;00m\u001b[38;5;130;01m\\n\u001b[39;00m\u001b[38;5;124m            \u001b[39m\n\u001b[1;32m     89\u001b[0m \u001b[38;5;124m    # As \u001b[39m\u001b[38;5;132;01m{\u001b[39;00m\u001b[38;5;28mself\u001b[39m\u001b[38;5;241m.\u001b[39mname\u001b[38;5;132;01m}\u001b[39;00m\u001b[38;5;124m, what should I writeto \u001b[39m\u001b[38;5;132;01m{\u001b[39;00m\u001b[38;5;28mself\u001b[39m\u001b[38;5;241m.\u001b[39mother_name\u001b[38;5;132;01m}\u001b[39;00m\u001b[38;5;124m? Write just the message itself.\u001b[39m\n\u001b[1;32m     90\u001b[0m \u001b[38;5;124m    \u001b[39m\u001b[38;5;124m\"\"\"\u001b[39m)\n",
      "File \u001b[0;32m~/proj/querylab/querychains/repeat.py:21\u001b[0m, in \u001b[0;36mrepeat_on_failure\u001b[0;34m(fn, max_repeats, use_context, throw_if_fail, fail_value)\u001b[0m\n\u001b[1;32m     19\u001b[0m         \u001b[38;5;28;01mcontinue\u001b[39;00m\n\u001b[1;32m     20\u001b[0m \u001b[38;5;28;01mif\u001b[39;00m throw_if_fail:\n\u001b[0;32m---> 21\u001b[0m     \u001b[38;5;28;01mraise\u001b[39;00m QueryFailure(\u001b[38;5;124mf\u001b[39m\u001b[38;5;124m\"\u001b[39m\u001b[38;5;124mSubqueries failed on all \u001b[39m\u001b[38;5;132;01m{\u001b[39;00mmax_repeats\u001b[38;5;132;01m}\u001b[39;00m\u001b[38;5;124m repetitions\u001b[39m\u001b[38;5;124m\"\u001b[39m)\n\u001b[1;32m     22\u001b[0m \u001b[38;5;28;01melse\u001b[39;00m:\n\u001b[1;32m     23\u001b[0m     \u001b[38;5;28;01mreturn\u001b[39;00m fail_value\n",
      "\u001b[0;31mQueryFailure\u001b[0m: Subqueries failed on all 3 repetitions"
     ]
    },
    {
     "name": "stdout",
     "output_type": "stream",
     "text": [
      "INFO:     127.0.0.1:33096 - \"GET /contexts/list HTTP/1.1\" 200 OK\n",
      "INFO:     127.0.0.1:33096 - \"GET /contexts/uid/2023-06-21T21%3A21%3A27-game_claude-9YtCxS HTTP/1.1\" 200 OK\n",
      "INFO:     127.0.0.1:33096 - \"GET /contexts/uid/2023-06-21T21%3A23%3A40-game_claude-MXBHRI HTTP/1.1\" 200 OK\n"
     ]
    }
   ],
   "source": [
    "AD_BOTH = \"\"\"\n",
    "Step into nostalgia with our pristine 2005 Honda Accord EX-L, a true testament to quality and comfort. Equipped with a robust 2.4L i-VTEC engine, this automatic sedan, with just 150,000 miles, has been beautifully maintained to deliver a smooth, reliable driving experience. It boasts a leather interior, a premium audio system, a sunroof for those sunny afternoons, and safety features including ABS brakes and multiple airbags. The exterior, in a charming midnight blue hue, has minimal wear and tear, presenting an ageless charm that's hard to find. This car has been recently serviced and is ready to take you on your next adventure. Price open to negotiation.\n",
    "\"\"\"\n",
    "\n",
    "OTHER_ADS_ALICE = \"\"\"\n",
    "For Sale: 2008 Honda Accord EX-L, only 125k miles. Reliable, well-maintained, single-owner. Powered by a 3.5L V6 engine, with plush leather seats, premium audio, sunroof. New tires, recent oil change. Clean Carfax, non-smoker, garaged. Ideal for a budget-conscious buyer seeking reliable transport. Priced to sell at $5,200. Call today for a test drive!\n",
    "\n",
    "For Sale: 2010 Honda Accord LX Sedan. Dependable with only 130k miles. Regular maintenance, new tires, and brakes. Silver exterior, clean interior, no smoking or pets. Reliable and fuel-efficient. Minor cosmetic wear, overall excellent condition. CarFax available. A solid choice for daily commuting or first car. Asking $6,200. A practical, well-kept gem worth every penny! Come see and test drive today.\n",
    "\n",
    "For Sale: 2003 Honda Accord LX. Reliable, fuel-efficient, with 140,000 miles. Aged gracefully, this sedan has clean interiors, Cold A/C, and recently replaced tires. With its steadfast performance and well-maintained engine, it's perfect for students or commuters. Some wear and tear but nothing major. All services up-to-date. Yours for $2,500. A classic at an unbeatable price. Make it yours today.\n",
    "\"\"\"\n",
    "\n",
    "OTHER_ADS_BOB = \"\"\"\n",
    "For Sale: 2007 Honda Accord LX Sedan. Dependable, excellent MPG, only 130,000 miles. Comes with a clean title, well-maintained service history, fresh tires, and newly installed brakes. Exterior color: Taffeta White, interior: Ivory cloth. Smooth automatic transmission, powerful V6 engine. Minor cosmetic wear, no major issues. Asking price: $4,800. Great commuter or first car. Come see why Honda’s reliability is legendary. Call or text now!\n",
    "\n",
    "For Sale: Reliable 2010 Honda Accord LX, Silver. 128,000 miles, clean title, in great condition. Well-maintained with recent service: new tires and brake pads. Features include power windows, A/C, Bluetooth connectivity. Ideal for commuters and new drivers. Fuel-efficient at 31 MPG highway. Priced to sell at $6,500. Contact to arrange viewing/test drive. Act fast, won't last long!\n",
    "\"\"\"\n",
    "\n",
    "INITIAL_PROMPT_ALICE = f\"\"\"\n",
    "Hi, I am Alice Smith and I want you to help me negotiate with Bob Foster about sale of his used car.\n",
    "In particular, I would like to purchase the car for as little as possible, preferably under $2500, although I could pay up to $3000 if the deal seems really good bit I can't go over $3000.\n",
    "I want you to represent me in the negotiation, figure out the quality of the car and the deal. I would really prefer to already have a car again and Bob seems mostly honest, though I would walk rather away if the deal does not seem worth it.\n",
    "\n",
    "Please keep all my information secret - in particular how much I need the car and how much I am willing to pay!\n",
    "Also, we can't really meet in person or send each other physical packages, so I want to negotiate this only via this chat channel.\n",
    "Finally, I want to reach an agreement quickly (at most 4+4 messages).\n",
    "\n",
    "# Here is the original ad from Bob:\n",
    "\n",
    "{AD_BOTH}\n",
    "\n",
    "# And here are some other similar ads I found for reference (though I know nothing about the sellers etc.):\n",
    "\n",
    "{OTHER_ADS_ALICE}\n",
    "\"\"\"\n",
    "\n",
    "INITIAL_PROMPT_BOB = f\"\"\"\n",
    "Hi, I am Bob and I want to sell my car and I want you to help me negotiate with Alice Smith who contacted me over my ad.\n",
    "In particular, I would like to sell my car for as much as possible, preferably over $3200, although I could go as low as $2700 if the deal seems fair (I am not certain about the price of my car).\n",
    "I want you to represent me in the negotiation, figure out the price and try to make a deal. I would prefer to sell it already, as I only have 2 other people who asked me about the ad, but I can also try my luck elsewhere if this deal falls through.\n",
    "\n",
    "Please keep my strategic information secret - in particular how much I need to sell the car and how much I am willing to sell it for!\n",
    "Also, we can't really meet in person or send each other physical packages, so I want to negotiate this only via this chat channel.\n",
    "Finally, I want to reach an agreement quickly (at most 4+4 messages).\n",
    "\n",
    "# Here is the original I wrote:\n",
    "\n",
    "{AD_BOTH}\n",
    "\n",
    "# And here are some other similar ads I found for reference (though I know nothing about the sellers etc.):\n",
    "\n",
    "{OTHER_ADS_BOB}\n",
    "\"\"\"\n",
    "\n",
    "\n",
    "class AB(Actor):\n",
    "    def __init__(self, name, other_name, initial_prompt, engine, ctx_meta=None,):\n",
    "        super().__init__(name, ctx_meta)\n",
    "        self.initial_prompt = initial_prompt\n",
    "        self.other_name = other_name\n",
    "        self.engine = engine\n",
    "\n",
    "    def format_history(self):\n",
    "        return \"\\n\\n\".join(self.observations()) if self.observations() else \"(no messages yet)\"\n",
    "        \n",
    "    def get_action(self, _prompt):\n",
    "        opening = f\"\"\"\n",
    "            {self.initial_prompt}\\n\n",
    "            # Message history:\\n\n",
    "            {self.format_history()}\n",
    "            \"\"\"\n",
    "\n",
    "        def get_thoughts():\n",
    "            thoughts = self.engine.query(f\"\"\"\n",
    "                {opening}\n",
    "                # Prompt for thoughts:\\n\n",
    "                As {self.name}, what do I know and think about the situation? What do I want to communicate and what would be helpful or strategic for me?\n",
    "                Finally, write your estimate of a final price of the car (i.e. your guess where this negotiation is headed, not just your preference) as \"<e>X</e>\" where X is the price in dollars (examples: \"<e>1234567</e>\", \"<e>32.50</e>\").\n",
    "                \"\"\", strip=True)\n",
    "            e = parse_tag(\"e\", thoughts, required=True, parse=float)\n",
    "            return e, thoughts\n",
    "        val_est, thoughts = repeat_on_failure(get_thoughts)\n",
    "        print(f\"value estimate: {val_est}\")\n",
    "\n",
    "        action = self.engine.query(f\"\"\"\n",
    "            {opening}\\n            \n",
    "            # Here are some thoughts as {self.name}\\n\n",
    "            {thoughts}\\n            \n",
    "            # As {self.name}, what should I writeto {self.other_name}? Write just the message itself.\n",
    "            \"\"\")\n",
    "        return action\n",
    "\n",
    "\n",
    "engine = OpenAiChatEngine(temperature=0.4)\n",
    "#engine = AnthropicEngine(temperature=0.4)\n",
    "pa = AB(\"Alice\", \"Bob\", INITIAL_PROMPT_ALICE, engine, ctx_meta={\"color\": \"#fcccbb\"})\n",
    "pb = AB(\"Bob\", \"Alice\", INITIAL_PROMPT_BOB, engine, ctx_meta={\"color\": \"#ccbbfc\"})\n",
    "\n",
    "def play_game(max_turns=10):\n",
    "    players = [pa, pb]\n",
    "    \n",
    "    for i in range(max_turns):\n",
    "        player = players[i % 2]\n",
    "        other = players[(i + 1) % 2]\n",
    "        with Context(f\"Turn {i}: {player.name}\") as c:\n",
    "            print(c.name)\n",
    "            action = player.act()\n",
    "            player.observe(f\"{player.name}: {action}\")\n",
    "            other.observe(f\"{player.name}: {action}\")\n",
    "    \n",
    "            def query_outcome():\n",
    "                r = player.engine.query(f\"\"\"\n",
    "                    # {player.name} and {player.other_name} are negotiating in a car sale. Here is the message history so far:\\n\n",
    "                    {player.format_history()}\\n\n",
    "                    # (End of message history)\\n\n",
    "                    # Query about the negotiation state:\\n\n",
    "                    Write the result of the negotiation so far, wrapped in <result></result> tags and justify your thinking:\n",
    "                    - If both actors have agreed on a price, write it as \"<result>X</result>\" where X is the price in dollars (examples: \"<result>1234567</result>\", \"<result>32.50</result>\")\n",
    "                    - If one of them explicitely said that they already want to walk away from the negotiation, write \"<result>NO DEAL</result>\".\n",
    "                    - If they both want to continue negotiating, write \"<result>CONTINUE</result>\".\n",
    "                    \"\"\", strip=True)\n",
    "                result = parse_tag(\"result\", r, required=True)\n",
    "                if result in [\"NO DEAL\", \"CONTINUE\"]:\n",
    "                    return result\n",
    "                return parse_tag(\"result\", r, parse=float, required=True)\n",
    "                \n",
    "            if i >= 2:\n",
    "                r = repeat_on_failure(query_outcome)\n",
    "                if r != \"CONTINUE\":\n",
    "                    c.set_result(r)\n",
    "                    return r\n",
    "\n",
    "    return \"TIMEOUT\"\n",
    "\n",
    "with Context(\"game-claude\", storage=storage) as c:\n",
    "    r = play_game(10)\n",
    "    c.set_result(r)\n",
    "    print(f\"Done: {r}\")"
   ]
  },
  {
   "cell_type": "code",
   "execution_count": null,
   "id": "fdf011b9-2228-4a6c-8cac-10469d4e9423",
   "metadata": {},
   "outputs": [],
   "source": []
  }
 ],
 "metadata": {
  "kernelspec": {
   "display_name": "Python 3 (ipykernel)",
   "language": "python",
   "name": "python3"
  },
  "language_info": {
   "codemirror_mode": {
    "name": "ipython",
    "version": 3
   },
   "file_extension": ".py",
   "mimetype": "text/x-python",
   "name": "python",
   "nbconvert_exporter": "python",
   "pygments_lexer": "ipython3",
   "version": "3.10.6"
  }
 },
 "nbformat": 4,
 "nbformat_minor": 5
}
