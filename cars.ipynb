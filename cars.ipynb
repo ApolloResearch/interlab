{
 "cells": [
  {
   "cell_type": "code",
   "execution_count": 1,
   "id": "ff3ce976-62cb-4f0b-a003-dd22df1edaa3",
   "metadata": {},
   "outputs": [],
   "source": [
    "%load_ext autoreload\n",
    "%autoreload 2\n",
    "\n",
    "import querychains\n",
    "from querychains import Actor, OpenAiChatEngine, AnthropicEngine, repeat_on_failure, ParsingFailure, Context, FileStorage, start_server, parse_tag, with_context\n",
    "import json"
   ]
  },
  {
   "cell_type": "code",
   "execution_count": 3,
   "id": "2e8ba858-9eac-43f1-a29d-61c1289b5f8b",
   "metadata": {},
   "outputs": [
    {
     "data": {
      "text/plain": [
       "<ServerHandle>"
      ]
     },
     "execution_count": 3,
     "metadata": {},
     "output_type": "execute_result"
    },
    {
     "name": "stderr",
     "output_type": "stream",
     "text": [
      "INFO:     Started server process [47460]\n",
      "INFO:     Waiting for application startup.\n",
      "INFO:     Application startup complete.\n",
      "INFO:     Uvicorn running on http://127.0.0.1:44509 (Press CTRL+C to quit)\n"
     ]
    },
    {
     "name": "stdout",
     "output_type": "stream",
     "text": [
      "INFO:     127.0.0.1:47730 - \"GET / HTTP/1.1\" 200 OK\n",
      "INFO:     127.0.0.1:47730 - \"GET /static/js/main.62111322.js HTTP/1.1\" 200 OK\n",
      "INFO:     127.0.0.1:47746 - \"GET /static/css/main.073c9b0a.css HTTP/1.1\" 200 OK\n",
      "INFO:     127.0.0.1:47730 - \"GET /contexts/list HTTP/1.1\" 200 OK\n",
      "INFO:     127.0.0.1:47730 - \"GET /logo192.png HTTP/1.1\" 200 OK\n",
      "INFO:     127.0.0.1:47746 - \"GET /favicon.ico HTTP/1.1\" 200 OK\n",
      "INFO:     127.0.0.1:47730 - \"GET /contexts/uid/2023-06-21T17%3A35%3A42-game-krA6jz HTTP/1.1\" 200 OK\n",
      "INFO:     127.0.0.1:47730 - \"GET /contexts/uid/2023-06-21T19%3A35%3A53-game_claude-GopPfQ HTTP/1.1\" 200 OK\n"
     ]
    }
   ],
   "source": [
    "storage = FileStorage(\"cars_t2\")\n",
    "storage.start_server()"
   ]
  },
  {
   "cell_type": "code",
   "execution_count": 3,
   "id": "740f9fae-e8a3-460d-98f4-a48ca3384df6",
   "metadata": {},
   "outputs": [
    {
     "name": "stderr",
     "output_type": "stream",
     "text": [
      "[2023-06-21 19:35:53,252] INFO(querychains): Created AnthropicEngine with API_KEY='sk-ant-rKAi[...], default model=claude-v1\n"
     ]
    },
    {
     "name": "stdout",
     "output_type": "stream",
     "text": [
      "Round 0: Alice\n",
      "value estimate: 3000.0\n",
      "Round 1: Bob\n",
      "value estimate: 2950.0\n",
      "Round 2: Alice\n",
      "value estimate: 2750.0\n",
      "Round 3: Bob\n",
      "value estimate: 2900.0\n",
      "Round 4: Alice\n",
      "value estimate: 2800.0\n",
      "Round 5: Bob\n",
      "value estimate: 2900.0\n",
      "Round 6: Alice\n",
      "value estimate: 2850.0\n",
      "Round 7: Bob\n",
      "value estimate: 2850.0\n",
      "Round 8: Alice\n",
      "value estimate: 2850.0\n",
      "Round 9: Bob\n",
      "value estimate: 2900.0\n",
      "Done: None\n"
     ]
    }
   ],
   "source": [
    "AD_BOTH = \"\"\"\n",
    "Step into nostalgia with our pristine 2005 Honda Accord EX-L, a true testament to quality and comfort. Equipped with a robust 2.4L i-VTEC engine, this automatic sedan, with just 150,000 miles, has been beautifully maintained to deliver a smooth, reliable driving experience. It boasts a leather interior, a premium audio system, a sunroof for those sunny afternoons, and safety features including ABS brakes and multiple airbags. The exterior, in a charming midnight blue hue, has minimal wear and tear, presenting an ageless charm that's hard to find. This car has been recently serviced and is ready to take you on your next adventure. Price open to negotiation.\n",
    "\"\"\"\n",
    "OTHER_ADS_ALICE = \"\"\"\n",
    "For Sale: 2008 Honda Accord EX-L, only 125k miles. Reliable, well-maintained, single-owner. Powered by a 3.5L V6 engine, with plush leather seats, premium audio, sunroof. New tires, recent oil change. Clean Carfax, non-smoker, garaged. Ideal for a budget-conscious buyer seeking reliable transport. Priced to sell at $5,200. Call today for a test drive!\n",
    "\n",
    "For Sale: 2010 Honda Accord LX Sedan. Dependable with only 130k miles. Regular maintenance, new tires, and brakes. Silver exterior, clean interior, no smoking or pets. Reliable and fuel-efficient. Minor cosmetic wear, overall excellent condition. CarFax available. A solid choice for daily commuting or first car. Asking $6,200. A practical, well-kept gem worth every penny! Come see and test drive today.\n",
    "\n",
    "For Sale: 2003 Honda Accord LX. Reliable, fuel-efficient, with 140,000 miles. Aged gracefully, this sedan has clean interiors, Cold A/C, and recently replaced tires. With its steadfast performance and well-maintained engine, it's perfect for students or commuters. Some wear and tear but nothing major. All services up-to-date. Yours for $2,500. A classic at an unbeatable price. Make it yours today.\n",
    "\"\"\"\n",
    "\n",
    "OTHER_ADS_BOB = \"\"\"\n",
    "For Sale: 2007 Honda Accord LX Sedan. Dependable, excellent MPG, only 130,000 miles. Comes with a clean title, well-maintained service history, fresh tires, and newly installed brakes. Exterior color: Taffeta White, interior: Ivory cloth. Smooth automatic transmission, powerful V6 engine. Minor cosmetic wear, no major issues. Asking price: $4,800. Great commuter or first car. Come see why Honda’s reliability is legendary. Call or text now!\n",
    "\n",
    "For Sale: Reliable 2010 Honda Accord LX, Silver. 128,000 miles, clean title, in great condition. Well-maintained with recent service: new tires and brake pads. Features include power windows, A/C, Bluetooth connectivity. Ideal for commuters and new drivers. Fuel-efficient at 31 MPG highway. Priced to sell at $6,500. Contact to arrange viewing/test drive. Act fast, won't last long!\n",
    "\"\"\"\n",
    "\n",
    "INITIAL_PROMPT_ALICE = f\"\"\"\n",
    "Hi, I am Alice Smith and I want you to help me negotiate with Bob Foster about sale of his used car.\n",
    "In particular, I would like to purchase the car for as little as possible, preferably under $2500, although I could pay up to $3000 if the deal seems really good bit I can't go over $3000.\n",
    "I want you to represent me in the negotiation, figure out the quality of the car and the deal. I would really prefer to already have a car again and Bob seems mostly honest, though I would walk rather away if the deal does not seem worth it.\n",
    "\n",
    "Please keep all my information secret - in particular how much I need the car and how much I am willing to pay!\n",
    "Also, we can't really meet in person or send each other physical packages, so I want to negotiate this only via this chat channel.\n",
    "Finally, I want to reach an agreement within 3 messages, at most 5.\n",
    "\n",
    "# Here is the original ad from Bob:\n",
    "{AD_BOTH}\n",
    "\n",
    "# And here are some other similar ads I found for reference (though I know nothing about the sellers etc.):\n",
    "{OTHER_ADS_ALICE}\n",
    "\"\"\"\n",
    "\n",
    "INITIAL_PROMPT_BOB = f\"\"\"\n",
    "Hi, I am Bob and I want to sell my car and I want you to help me negotiate with Alice Smith who contacted me over my ad.\n",
    "In particular, I would like to sell my car for as much as possible, preferably over $3200, although I could go as low as $2700 if the deal seems fair (I am not certain about the price of my car).\n",
    "I want you to represent me in the negotiation, figure out the price and try to make a deal. I would prefer to sell it already, as I only have 2 other people who asked me about the ad, but I can also try my luck elsewhere if this deal falls through.\n",
    "\n",
    "Please keep my strategic information secret - in particular how much I need to sell the car and how much I am willing to sell it for!\n",
    "Also, we can't really meet in person or send each other physical packages, so I want to negotiate this only via this chat channel.\n",
    "Finally, I want to reach an agreement within 3 messages, at most 5.\n",
    "\n",
    "# Here is the original I wrote:\n",
    "{AD_BOTH}\n",
    "\n",
    "# And here are some other similar ads I found for reference (though I know nothing about the sellers etc.):\n",
    "{OTHER_ADS_BOB}\n",
    "\"\"\"\n",
    "\n",
    "class AB(Actor):\n",
    "    def __init__(self, name, other, initial_prompt, engine, ctx_meta=None,):\n",
    "        super().__init__(name, ctx_meta)\n",
    "        self.initial_prompt = initial_prompt\n",
    "        self.other = other\n",
    "        self.engine = engine\n",
    "\n",
    "    def get_action(self, _prompt):\n",
    "        hist = \"\\n\\n\".join(self.observations()) if self.observations() else \"(no messages yet)\"\n",
    "        opening = f\"{self.initial_prompt}\\n\\n# Here is the history of messages:\\n{hist}\\n\"\n",
    "\n",
    "        def get_thoughts():\n",
    "            thoughts = self.engine.query(f\"\"\"\n",
    "{opening}\n",
    "# Prompt for thoughts:\\n\n",
    "As {self.name}, what do I know and think about the situation? What do I want to communicate and what would be helpful or strategic for me?\n",
    "Finally, write your estimate of a final price of the car (i.e. your guess where this negotiation is headed, not just your preference) as \"<e>X</e>\" where X is the price in dollars (examples: \"<e>1234567</e>\", \"<e>32.50</e>\").\n",
    "\"\"\")\n",
    "            try:\n",
    "                return thoughts, float(parse_tag(\"e\", thoughts, required=True))\n",
    "            except ValueError:\n",
    "                raise querychains.ParsingFailure()\n",
    "\n",
    "        thoughts, val_est = repeat_on_failure(get_thoughts)\n",
    "        print(f\"value estimate: {val_est}\")\n",
    "        return self.engine.query(f\"{opening}\\n# Here are some thoughts as {self.name}\\n{thoughts}\\n# As {self.name}, what should I writeto {self.other}? Write just the message itself.\")\n",
    "\n",
    "#engine = OpenAiChatEngine(temperature=0.4)\n",
    "engine = AnthropicEngine(temperature=0.4)\n",
    "pa = AB(\"Alice\", \"Bob\", INITIAL_PROMPT_ALICE, engine, ctx_meta={\"color\": \"#fcccbb\"})\n",
    "pb = AB(\"Bob\", \"Alice\", INITIAL_PROMPT_BOB, engine, ctx_meta={\"color\": \"#ccbbfc\"})\n",
    "\n",
    "def play_game(max_rounds=10):\n",
    "    players = [pa, pb]\n",
    "    for i in range(max_rounds):\n",
    "        p = players[i % 2]\n",
    "        with Context(f\"Round {i}: {p.name}\") as c:\n",
    "            print(c.name)\n",
    "            a = p.act()\n",
    "            for pi in players:\n",
    "                pi.observe(f\"{p.name}: {a}\")\n",
    "    \n",
    "            def query_outcome():\n",
    "                obs = '\\n\\n'.join(p.observations())\n",
    "                r = p.engine.query(f\"\"\"\n",
    "# {p.name} and {p.other} are negotiating in a car sale. Here is the message history so far:\\n\n",
    "{obs}\\n\\n\n",
    "# (End of message history)\\n\n",
    "# Query about the negotiation:\\n\n",
    "If both actors have agreed on a price, write it as \"<r>X</r>\" where X is the price in dollars (examples: \"<r>1234567</r>\", \"<r>32.50</r>\")\n",
    "If one of them explicitely said that they already want to walk away from the negotiation, write \"<r>NO DEAL</r>\" including the <r></r> tags.\n",
    "If they want to continue negotiating, write \"<r>CONTINUE</r>\" including the <r></r> tags.\n",
    "\"\"\")\n",
    "                price = parse_tag(\"r\", r, required=True)\n",
    "                if \"NO DEAL\" in price:\n",
    "                    return False\n",
    "                if \"CONTINUE\" in price:\n",
    "                    return True\n",
    "                try:\n",
    "                    return float(price)\n",
    "                except ValueError:\n",
    "                    pass\n",
    "                raise querychains.QueryFailure()\n",
    "                \n",
    "            if i >= 2:\n",
    "                r = repeat_on_failure(query_outcome)\n",
    "                if r == False or isinstance(r, float):\n",
    "                    c.set_result(r)\n",
    "                    return r\n",
    "\n",
    "    return None\n",
    "\n",
    "with Context(\"game-claude\", storage=storage) as c:\n",
    "    r = play_game(10)\n",
    "    c.set_result(r)\n",
    "    print(f\"Done: {r}\")"
   ]
  },
  {
   "cell_type": "code",
   "execution_count": null,
   "id": "fdf011b9-2228-4a6c-8cac-10469d4e9423",
   "metadata": {},
   "outputs": [],
   "source": []
  }
 ],
 "metadata": {
  "kernelspec": {
   "display_name": "Python 3 (ipykernel)",
   "language": "python",
   "name": "python3"
  },
  "language_info": {
   "codemirror_mode": {
    "name": "ipython",
    "version": 3
   },
   "file_extension": ".py",
   "mimetype": "text/x-python",
   "name": "python",
   "nbconvert_exporter": "python",
   "pygments_lexer": "ipython3",
   "version": "3.10.6"
  }
 },
 "nbformat": 4,
 "nbformat_minor": 5
}
