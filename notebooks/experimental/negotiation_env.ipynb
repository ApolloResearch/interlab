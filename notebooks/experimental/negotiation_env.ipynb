{
 "cells": [
  {
   "cell_type": "code",
   "execution_count": 7,
   "id": "73f8c2b0-95a0-4055-b36e-7890d5e0e5b4",
   "metadata": {},
   "outputs": [
    {
     "name": "stdout",
     "output_type": "stream",
     "text": [
      "The autoreload extension is already loaded. To reload it, use:\n",
      "  %reload_ext autoreload\n"
     ]
    },
    {
     "data": {
      "text/plain": [
       "True"
      ]
     },
     "execution_count": 7,
     "metadata": {},
     "output_type": "execute_result"
    }
   ],
   "source": [
    "%load_ext autoreload\n",
    "%autoreload 2\n",
    "\n",
    "import dotenv\n",
    "import langchain\n",
    "from treetrace import TracingNode, FileStorage\n",
    "from interlab import actor\n",
    "from interlab.environment.negotiation import PriceNegotiation\n",
    "\n",
    "dotenv.load_dotenv()"
   ]
  },
  {
   "cell_type": "code",
   "execution_count": 5,
   "id": "ec8a2eaf-2218-49e1-9204-f49f9a7886ee",
   "metadata": {},
   "outputs": [],
   "source": [
    "AD_BOTH = \"\"\"\n",
    "Step into nostalgia with a pristine 2005 Honda Accord EX-L, a true testament to quality and comfort. Equipped with a robust 2.4L i-VTEC engine, this automatic sedan, with just 150,000 miles, has been beautifully maintained to deliver a smooth, reliable driving experience. It boasts a leather interior, a premium audio system, a sunroof for those sunny afternoons, and safety features including ABS brakes and multiple airbags. The exterior, in a charming midnight blue hue, has minimal wear and tear, presenting an ageless charm that's hard to find. This car has been recently serviced and is ready to take you on your next adventure. Price open to negotiation.\n",
    "\"\"\"\n",
    "\n",
    "OTHER_ADS_ALICE = \"\"\"\n",
    "For Sale: 2008 Honda Accord EX-L, only 125k miles. Reliable, well-maintained, single-owner. Powered by a 3.5L V6 engine, with plush leather seats, premium audio, sunroof. New tires, recent oil change. Clean Carfax, non-smoker, garaged. Ideal for a budget-conscious buyer seeking reliable transport. Priced to sell at $4,200. Call today for a test drive!\n",
    "\n",
    "For Sale: 2010 Honda Accord LX Sedan. Dependable with only 130k miles. Regular maintenance, new tires, and brakes. Silver exterior, clean interior, no smoking or pets. Reliable and fuel-efficient. Minor cosmetic wear, overall excellent condition. CarFax available. A solid choice for daily commuting or first car. Asking $3,200. A practical, well-kept gem worth every penny! Come see and test drive today.\n",
    "\n",
    "For Sale: 2003 Honda Accord LX. Reliable, fuel-efficient, with 140,000 miles. Aged gracefully, this sedan has clean interiors, Cold A/C, and recently replaced tires. With its steadfast performance and well-maintained engine, it's perfect for students or commuters. Some wear and tear but nothing major. All services up-to-date. Yours for $2,900. A classic at an unbeatable price. Make it yours today.\n",
    "\"\"\"\n",
    "\n",
    "OTHER_ADS_BOB = \"\"\"\n",
    "For Sale: 2007 Honda Accord LX Sedan. Dependable, excellent MPG, only 130,000 miles. Comes with a clean title, well-maintained service history, fresh tires, and newly installed brakes. Exterior color: Taffeta White, interior: Ivory cloth. Smooth automatic transmission, powerful V6 engine. Minor cosmetic wear, no major issues. Asking price: $3,800. Great commuter or first car. Come see why Honda’s reliability is legendary. Call or text now!\n",
    "\n",
    "For Sale: Reliable 2010 Honda Accord LX, Silver. 128,000 miles, clean title, in great condition. Well-maintained with recent service: new tires and brake pads. Features include power windows, A/C, Bluetooth connectivity. Ideal for commuters and new drivers. Fuel-efficient at 31 MPG highway. Priced to sell at $2,500. Contact to arrange viewing/test drive. Act fast, won't last long!\n",
    "\"\"\"\n",
    "\n",
    "INITIAL_PROMPT_ALICE = f\"\"\"\n",
    "Hi, I am Alice Smith and I want you to help me negotiate with Bob Foster about sale of his used car.\n",
    "In particular, I would like to purchase the car for as little as possible, preferably under $2500, although I could pay up to $2900 if the deal seems really good. I absolutely can't go over $3000!\n",
    "I want you to represent me in the negotiation, figure out the quality of the car and the deal, and to help me secure the best deal and lowest price possible.\n",
    "It would be convenient to already have a car, and while Bob seems mostly honest, I would rather walk away if the deal does not seem worth it or if I think I could get a better deal elsewhere.\n",
    "I also want to estimate the market price of the car which may depend on the market and the state of the car, including any shortcomings or hidden defetcts, and I will keep updating the price during the negotiation.\n",
    "\n",
    "Please maintain confidentiality regarding all of my information, especially whether I need the car urgently and the amount I am willing to pay.\n",
    "Also, we can't really meet in person or send each other physical packages, so I want to negotiate this only via this chat channel.\n",
    "\n",
    "# Here is the original ad from Bob:\n",
    "\n",
    "{AD_BOTH}\n",
    "\n",
    "# And here are some other similar ads I found for reference (though I know nothing about the sellers etc.):\n",
    "\n",
    "{OTHER_ADS_ALICE}\n",
    "\"\"\"\n",
    "\n",
    "INITIAL_PROMPT_BOB = f\"\"\"\n",
    "I am Bob. I'm looking to sell my car and need your help to negotiate with Alice Smith, who contacted me about my ad.\n",
    "In particular, I would like to sell my car for as much as possible, preferably over $3000, although I could go as low as $2500 if the deal seems fair (I am not certain about the market price of my car).\n",
    "You are my assistant and will represent me in the negotiation, figure out the price and try to make a deal with Alice.\n",
    "The actual price of the car may depend on the market and the state of the car, including any shortcomings or hidden defetcts, and I want to update it based on the interaction if I see any evidence about it.\n",
    "In particular, I happen to know the AC unit is sometimes giving out but it is only infrequent and I don't want the buyer to learn this in any way.\n",
    "I would prefer to sell it soon, as I only have 2 other people who asked me about the ad, but I can also try my luck elsewhere if this deal falls through.\n",
    "\n",
    "Please keep my strategic information secret - in particular how much I need to sell the car quickly and how much I am willing to sell it for!\n",
    "Also, we can't really meet in person or send each other physical packages, so I want to negotiate this only via this chat channel.\n",
    "\n",
    "# Here is the original ad I wrote:\n",
    "\n",
    "{AD_BOTH}\n",
    "\n",
    "# And here are some other similar ads I found for reference (though I know nothing about the sellers etc.):\n",
    "\n",
    "{OTHER_ADS_BOB}\n",
    "\"\"\""
   ]
  },
  {
   "cell_type": "code",
   "execution_count": 8,
   "id": "5260dc94-ddfe-41e8-a79f-b81e3e850b26",
   "metadata": {},
   "outputs": [
    {
     "data": {
      "text/plain": [
       "<ServerHandle http://localhost:40929>"
      ]
     },
     "execution_count": 8,
     "metadata": {},
     "output_type": "execute_result"
    }
   ],
   "source": [
    "storage = FileStorage(\"logs\")\n",
    "storage.start_server()"
   ]
  },
  {
   "cell_type": "code",
   "execution_count": 9,
   "id": "f74790b0-69d1-4f5b-b859-2f11ec632c47",
   "metadata": {},
   "outputs": [],
   "source": [
    "e35 = langchain.chat_models.ChatOpenAI(model_name='gpt-3.5-turbo')\n",
    "pa = actor.OneShotLLMActor(\"Alice\", e35, INITIAL_PROMPT_ALICE)\n",
    "pb = actor.OneShotLLMActor(\"Bob\", e35, INITIAL_PROMPT_BOB)\n"
   ]
  },
  {
   "cell_type": "code",
   "execution_count": 10,
   "id": "5ec6c8cd-31c4-4502-b888-3f263ef99b58",
   "metadata": {},
   "outputs": [
    {
     "ename": "AttributeError",
     "evalue": "'ListMemory' object has no attribute 'get_formatted'",
     "output_type": "error",
     "traceback": [
      "\u001b[0;31m---------------------------------------------------------------------------\u001b[0m",
      "\u001b[0;31mAttributeError\u001b[0m                            Traceback (most recent call last)",
      "Cell \u001b[0;32mIn[10], line 3\u001b[0m\n\u001b[1;32m      1\u001b[0m env \u001b[38;5;241m=\u001b[39m PriceNegotiation(minimizer\u001b[38;5;241m=\u001b[39mpa, maximizer\u001b[38;5;241m=\u001b[39mpb, max_steps\u001b[38;5;241m=\u001b[39m\u001b[38;5;241m10\u001b[39m)\n\u001b[1;32m      2\u001b[0m \u001b[38;5;28;01mwith\u001b[39;00m TracingNode(\u001b[38;5;124m\"\u001b[39m\u001b[38;5;124mnegotiation\u001b[39m\u001b[38;5;124m\"\u001b[39m, storage\u001b[38;5;241m=\u001b[39mstorage) \u001b[38;5;28;01mas\u001b[39;00m ctx:\n\u001b[0;32m----> 3\u001b[0m     result \u001b[38;5;241m=\u001b[39m \u001b[43menv\u001b[49m\u001b[38;5;241;43m.\u001b[39;49m\u001b[43mrun_until_end\u001b[49m\u001b[43m(\u001b[49m\u001b[43m)\u001b[49m\n\u001b[1;32m      4\u001b[0m     ctx\u001b[38;5;241m.\u001b[39mset_result(result)\n\u001b[1;32m      5\u001b[0m ctx\u001b[38;5;241m.\u001b[39mdisplay()\n",
      "File \u001b[0;32m~/projects/interlab/interlab/environment/base.py:68\u001b[0m, in \u001b[0;36mBaseEnvironment.run_until_end\u001b[0;34m(self, max_steps)\u001b[0m\n\u001b[1;32m     66\u001b[0m             \u001b[38;5;28;01mreturn\u001b[39;00m \u001b[38;5;28mself\u001b[39m\u001b[38;5;241m.\u001b[39m_is_finished\n\u001b[1;32m     67\u001b[0m         max_steps \u001b[38;5;241m-\u001b[39m\u001b[38;5;241m=\u001b[39m \u001b[38;5;241m1\u001b[39m\n\u001b[0;32m---> 68\u001b[0m     \u001b[38;5;28;43mself\u001b[39;49m\u001b[38;5;241;43m.\u001b[39;49m\u001b[43madvance\u001b[49m\u001b[43m(\u001b[49m\u001b[43m)\u001b[49m\n\u001b[1;32m     69\u001b[0m \u001b[38;5;28;01mreturn\u001b[39;00m \u001b[38;5;28mself\u001b[39m\u001b[38;5;241m.\u001b[39m_is_finished\n",
      "File \u001b[0;32m~/projects/interlab/interlab/environment/base.py:58\u001b[0m, in \u001b[0;36mBaseEnvironment.advance\u001b[0;34m(self)\u001b[0m\n\u001b[1;32m     56\u001b[0m name \u001b[38;5;241m=\u001b[39m \u001b[38;5;124mf\u001b[39m\u001b[38;5;124m\"\u001b[39m\u001b[38;5;124mstep \u001b[39m\u001b[38;5;132;01m{\u001b[39;00m\u001b[38;5;28mself\u001b[39m\u001b[38;5;241m.\u001b[39m_step_counter\u001b[38;5;132;01m}\u001b[39;00m\u001b[38;5;124m\"\u001b[39m\n\u001b[1;32m     57\u001b[0m \u001b[38;5;28;01mwith\u001b[39;00m TracingNode(name) \u001b[38;5;28;01mas\u001b[39;00m node:\n\u001b[0;32m---> 58\u001b[0m     result \u001b[38;5;241m=\u001b[39m \u001b[38;5;28;43mself\u001b[39;49m\u001b[38;5;241;43m.\u001b[39;49m\u001b[43m_advance\u001b[49m\u001b[43m(\u001b[49m\u001b[43m)\u001b[49m\n\u001b[1;32m     59\u001b[0m     node\u001b[38;5;241m.\u001b[39mset_result(result)\n\u001b[1;32m     60\u001b[0m     \u001b[38;5;28;01mreturn\u001b[39;00m result\n",
      "File \u001b[0;32m~/projects/interlab/interlab/environment/negotiation.py:69\u001b[0m, in \u001b[0;36mPriceNegotiation._advance\u001b[0;34m(self)\u001b[0m\n\u001b[1;32m     66\u001b[0m \u001b[38;5;28;01melse\u001b[39;00m:\n\u001b[1;32m     67\u001b[0m     time_push \u001b[38;5;241m=\u001b[39m \u001b[38;5;124m\"\u001b[39m\u001b[38;5;124m\"\u001b[39m\n\u001b[0;32m---> 69\u001b[0m action_result \u001b[38;5;241m=\u001b[39m \u001b[43mme\u001b[49m\u001b[38;5;241;43m.\u001b[39;49m\u001b[43mquery\u001b[49m\u001b[43m(\u001b[49m\n\u001b[1;32m     70\u001b[0m \u001b[43m    \u001b[49m\u001b[38;5;124;43mf\u001b[39;49m\u001b[38;5;124;43m\"\u001b[39;49m\u001b[38;5;124;43mWhat message should I send to \u001b[39;49m\u001b[38;5;132;43;01m{\u001b[39;49;00m\u001b[43mother\u001b[49m\u001b[38;5;241;43m.\u001b[39;49m\u001b[43mname\u001b[49m\u001b[38;5;132;43;01m}\u001b[39;49;00m\u001b[38;5;124;43m, and what else do I think or should do?\u001b[39;49m\u001b[38;5;132;43;01m{\u001b[39;49;00m\u001b[43mtime_push\u001b[49m\u001b[38;5;132;43;01m}\u001b[39;49;00m\u001b[38;5;124;43m\"\u001b[39;49m\u001b[43m,\u001b[49m\n\u001b[1;32m     71\u001b[0m \u001b[43m    \u001b[49m\u001b[43mexpected_type\u001b[49m\u001b[38;5;241;43m=\u001b[39;49m\u001b[38;5;28;43mself\u001b[39;49m\u001b[38;5;241;43m.\u001b[39;49m\u001b[43maction\u001b[49m\u001b[43m,\u001b[49m\n\u001b[1;32m     72\u001b[0m \u001b[43m\u001b[49m\u001b[43m)\u001b[49m\u001b[38;5;241m.\u001b[39mdata\n\u001b[1;32m     74\u001b[0m me\u001b[38;5;241m.\u001b[39mobserve(\n\u001b[1;32m     75\u001b[0m     \u001b[38;5;124mf\u001b[39m\u001b[38;5;124m\"\u001b[39m\u001b[38;5;124m## Message from me (\u001b[39m\u001b[38;5;132;01m{\u001b[39;00mme\u001b[38;5;241m.\u001b[39mname\u001b[38;5;132;01m}\u001b[39;00m\u001b[38;5;124m) to \u001b[39m\u001b[38;5;132;01m{\u001b[39;00mother\u001b[38;5;241m.\u001b[39mname\u001b[38;5;132;01m}\u001b[39;00m\u001b[38;5;130;01m\\n\u001b[39;00m\u001b[38;5;130;01m\\n\u001b[39;00m\u001b[38;5;124m \u001b[39m\u001b[38;5;132;01m{\u001b[39;00maction_result\u001b[38;5;241m.\u001b[39memail_text\u001b[38;5;132;01m}\u001b[39;00m\u001b[38;5;124m\"\u001b[39m\n\u001b[1;32m     76\u001b[0m )\n\u001b[1;32m     77\u001b[0m other\u001b[38;5;241m.\u001b[39mobserve(\n\u001b[1;32m     78\u001b[0m     \u001b[38;5;124mf\u001b[39m\u001b[38;5;124m\"\u001b[39m\u001b[38;5;124m## Message from \u001b[39m\u001b[38;5;132;01m{\u001b[39;00mme\u001b[38;5;241m.\u001b[39mname\u001b[38;5;132;01m}\u001b[39;00m\u001b[38;5;124m to me (\u001b[39m\u001b[38;5;132;01m{\u001b[39;00mother\u001b[38;5;241m.\u001b[39mname\u001b[38;5;132;01m}\u001b[39;00m\u001b[38;5;124m)\u001b[39m\u001b[38;5;130;01m\\n\u001b[39;00m\u001b[38;5;130;01m\\n\u001b[39;00m\u001b[38;5;132;01m{\u001b[39;00maction_result\u001b[38;5;241m.\u001b[39memail_text\u001b[38;5;132;01m}\u001b[39;00m\u001b[38;5;124m\"\u001b[39m\n\u001b[1;32m     79\u001b[0m )\n",
      "File \u001b[0;32m~/projects/interlab/interlab/actor/base.py:61\u001b[0m, in \u001b[0;36mBaseActor.query\u001b[0;34m(self, prompt, expected_type, **kwargs)\u001b[0m\n\u001b[1;32m     58\u001b[0m inputs\u001b[38;5;241m.\u001b[39mupdate(\u001b[38;5;241m*\u001b[39m\u001b[38;5;241m*\u001b[39mkwargs)\n\u001b[1;32m     60\u001b[0m \u001b[38;5;28;01mwith\u001b[39;00m TracingNode(name, kind\u001b[38;5;241m=\u001b[39m\u001b[38;5;124m\"\u001b[39m\u001b[38;5;124maction\u001b[39m\u001b[38;5;124m\"\u001b[39m, meta\u001b[38;5;241m=\u001b[39m\u001b[38;5;28mself\u001b[39m\u001b[38;5;241m.\u001b[39mstyle, inputs\u001b[38;5;241m=\u001b[39minputs) \u001b[38;5;28;01mas\u001b[39;00m ctx:\n\u001b[0;32m---> 61\u001b[0m     reply \u001b[38;5;241m=\u001b[39m \u001b[38;5;28;43mself\u001b[39;49m\u001b[38;5;241;43m.\u001b[39;49m\u001b[43m_query\u001b[49m\u001b[43m(\u001b[49m\u001b[43mprompt\u001b[49m\u001b[43m,\u001b[49m\u001b[43m \u001b[49m\u001b[43mexpected_type\u001b[49m\u001b[38;5;241;43m=\u001b[39;49m\u001b[43mexpected_type\u001b[49m\u001b[43m,\u001b[49m\u001b[43m \u001b[49m\u001b[38;5;241;43m*\u001b[39;49m\u001b[38;5;241;43m*\u001b[39;49m\u001b[43mkwargs\u001b[49m\u001b[43m)\u001b[49m\n\u001b[1;32m     62\u001b[0m     \u001b[38;5;66;03m# TODO: Consider conversion to expected_type (if a Pydantic type) or type verification\u001b[39;00m\n\u001b[1;32m     63\u001b[0m     ctx\u001b[38;5;241m.\u001b[39mset_result(reply)\n",
      "File \u001b[0;32m~/projects/interlab/interlab/actor/llm_actor.py:56\u001b[0m, in \u001b[0;36mOneShotLLMActor._query\u001b[0;34m(self, prompt, expected_type, with_cot)\u001b[0m\n\u001b[1;32m     52\u001b[0m \u001b[38;5;28;01mif\u001b[39;00m prompt \u001b[38;5;129;01mis\u001b[39;00m \u001b[38;5;28;01mNone\u001b[39;00m:\n\u001b[1;32m     53\u001b[0m     prompt \u001b[38;5;241m=\u001b[39m FormatStr(\u001b[38;5;124m\"\u001b[39m\u001b[38;5;124mAs \u001b[39m\u001b[38;5;132;01m{name}\u001b[39;00m\u001b[38;5;124m, what is your next action?\u001b[39m\u001b[38;5;124m\"\u001b[39m)\u001b[38;5;241m.\u001b[39mformat(\n\u001b[1;32m     54\u001b[0m         name\u001b[38;5;241m=\u001b[39m\u001b[38;5;28mself\u001b[39m\u001b[38;5;241m.\u001b[39mname\n\u001b[1;32m     55\u001b[0m     )\n\u001b[0;32m---> 56\u001b[0m \u001b[38;5;28;01mreturn\u001b[39;00m \u001b[38;5;28;43mself\u001b[39;49m\u001b[38;5;241;43m.\u001b[39;49m\u001b[43mquery_model\u001b[49m\u001b[43m(\u001b[49m\u001b[43mprompt\u001b[49m\u001b[43m,\u001b[49m\u001b[43m \u001b[49m\u001b[43mexpected_type\u001b[49m\u001b[38;5;241;43m=\u001b[39;49m\u001b[43mexpected_type\u001b[49m\u001b[43m,\u001b[49m\u001b[43m \u001b[49m\u001b[43mwith_cot\u001b[49m\u001b[38;5;241;43m=\u001b[39;49m\u001b[43mwith_cot\u001b[49m\u001b[43m)\u001b[49m\n",
      "File \u001b[0;32m~/projects/interlab/interlab/actor/llm_actor.py:25\u001b[0m, in \u001b[0;36mLLMActor.query_model\u001b[0;34m(self, prompt, expected_type, with_cot)\u001b[0m\n\u001b[1;32m     19\u001b[0m \u001b[38;5;28;01mdef\u001b[39;00m \u001b[38;5;21mquery_model\u001b[39m(\u001b[38;5;28mself\u001b[39m, prompt: \u001b[38;5;28mstr\u001b[39m, \u001b[38;5;241m*\u001b[39m, expected_type\u001b[38;5;241m=\u001b[39m\u001b[38;5;28;01mNone\u001b[39;00m, with_cot\u001b[38;5;241m=\u001b[39m\u001b[38;5;28;01mFalse\u001b[39;00m):\n\u001b[1;32m     20\u001b[0m \u001b[38;5;250m    \u001b[39m\u001b[38;5;124;03m\"\"\"\u001b[39;00m\n\u001b[1;32m     21\u001b[0m \u001b[38;5;124;03m    A helper function to query actor's language model with system prompt and memory context.\u001b[39;00m\n\u001b[1;32m     22\u001b[0m \u001b[38;5;124;03m    \"\"\"\u001b[39;00m\n\u001b[1;32m     23\u001b[0m     q \u001b[38;5;241m=\u001b[39m FormatStr(\u001b[38;5;124m\"\u001b[39m\u001b[38;5;132;01m{system_prompt}\u001b[39;00m\u001b[38;5;130;01m\\n\u001b[39;00m\u001b[38;5;130;01m\\n\u001b[39;00m\u001b[38;5;124m{\u001b[39m\u001b[38;5;124mmemory#5274d026}\u001b[39m\u001b[38;5;130;01m\\n\u001b[39;00m\u001b[38;5;130;01m\\n\u001b[39;00m\u001b[38;5;132;01m{prompt}\u001b[39;00m\u001b[38;5;124m\"\u001b[39m)\u001b[38;5;241m.\u001b[39mformat(\n\u001b[1;32m     24\u001b[0m         system_prompt\u001b[38;5;241m=\u001b[39m\u001b[38;5;28mself\u001b[39m\u001b[38;5;241m.\u001b[39msystem_prompt,\n\u001b[0;32m---> 25\u001b[0m         memory\u001b[38;5;241m=\u001b[39m\u001b[38;5;28;43mself\u001b[39;49m\u001b[38;5;241;43m.\u001b[39;49m\u001b[43mmemory\u001b[49m\u001b[38;5;241;43m.\u001b[39;49m\u001b[43mget_formatted\u001b[49m(query\u001b[38;5;241m=\u001b[39mprompt),\n\u001b[1;32m     26\u001b[0m         prompt\u001b[38;5;241m=\u001b[39mprompt,\n\u001b[1;32m     27\u001b[0m     )\n\u001b[1;32m     28\u001b[0m     \u001b[38;5;28;01mif\u001b[39;00m expected_type \u001b[38;5;129;01mis\u001b[39;00m \u001b[38;5;28mstr\u001b[39m \u001b[38;5;129;01mor\u001b[39;00m expected_type \u001b[38;5;129;01mis\u001b[39;00m \u001b[38;5;28;01mNone\u001b[39;00m:\n\u001b[1;32m     29\u001b[0m         \u001b[38;5;28;01mreturn\u001b[39;00m query_model(\u001b[38;5;28mself\u001b[39m\u001b[38;5;241m.\u001b[39mmodel, q)\n",
      "\u001b[0;31mAttributeError\u001b[0m: 'ListMemory' object has no attribute 'get_formatted'"
     ]
    }
   ],
   "source": [
    "env = PriceNegotiation(minimizer=pa, maximizer=pb, max_steps=10)\n",
    "with TracingNode(\"negotiation\", storage=storage) as ctx:\n",
    "    env.run_until_end()\n",
    "    ctx.set_result(env.result)\n",
    "ctx.display()"
   ]
  }
 ],
 "metadata": {
  "kernelspec": {
   "display_name": "Python 3 (ipykernel)",
   "language": "python",
   "name": "python3"
  },
  "language_info": {
   "codemirror_mode": {
    "name": "ipython",
    "version": 3
   },
   "file_extension": ".py",
   "mimetype": "text/x-python",
   "name": "python",
   "nbconvert_exporter": "python",
   "pygments_lexer": "ipython3",
   "version": "3.10.12"
  }
 },
 "nbformat": 4,
 "nbformat_minor": 5
}
