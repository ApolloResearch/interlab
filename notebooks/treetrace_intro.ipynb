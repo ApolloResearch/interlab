{
 "cells": [
  {
   "cell_type": "markdown",
   "id": "c0fed295-5189-4ac9-af7b-8837e5a01a9a",
   "metadata": {},
   "source": [
    "# Introduction to TreeTrace module\n",
    "\n",
    "**NOTE: This notebooks deals with both standard tracing nodes use and some low-level aspects of nodes and their storage.**\n",
    "\n",
    "TreeTrace nodes are a framework for logging, tracing, result storage, and visualization of nested computations and actor interactions.\n",
    "They have been designed with large textual and structured (e.g. JSON) inputs and outputs in mind, as well as generic and custom visualizations.\n",
    "\n",
    "A `TracingNode` is an event of certain name, type (`kind`, with small differences in semantics for several built-in ones), start and end time, inputs,\n",
    "result or error (exception), tags, and any child nodes - forming a rooted tree. Tags allow for tracing node filtering and search. Inputs and result support structured data and visualizations (see below).\n",
    "\n",
    "## Storage\n",
    "\n",
    "Currently, TracingNodes are stored as JSON files (one JSON file for every designated stored root node), but in the future we plan to also support DB storage.\n",
    "\n",
    "## Visualization and UI\n",
    "\n",
    "The framework also contains a web-based browser for the browsing tracing nodes - both directly in a jupyter notebook and in a separate web-browser window.\n",
    "\n",
    "Tracing nodes and their visualization interact well with dataclasses (and JSON-like data in general) but also support custom visualizations: bitmap images, HTML, SVG (more can be added).\n",
    "\n",
    "The current browser also shows still running TracingNodes (manual reloads required for refresh).\n",
    "\n",
    "## In InterLab\n",
    "\n",
    "Tracing nodes are an independent part of InterLab - you can use them in other projects (e.g. for the tracing browser), or use interlab without tracing nodes (some TracingNodes are still created but not stored by default, and should pose a trivial performance penalty comparable to logging).\n"
   ]
  },
  {
   "cell_type": "code",
   "execution_count": null,
   "id": "517e9432-85fc-482d-b95c-8cdd571ffbea",
   "metadata": {
    "tags": []
   },
   "outputs": [],
   "source": [
    "%load_ext autoreload\n",
    "%autoreload 2\n",
    "\n",
    "from dataclasses import dataclass\n",
    "import json\n",
    "import matplotlib.pyplot as plt\n",
    "from treetrace import TracingNode, with_trace, current_tracing_node, Tag, FileStorage\n",
    "from treetrace.ext.pyplot import capture_figure\n",
    "\n",
    "def show(obj):\n",
    "    print(json.dumps(obj, indent=2))"
   ]
  },
  {
   "cell_type": "markdown",
   "id": "35f9e3cd-6944-459d-9084-3f80771768a5",
   "metadata": {},
   "source": [
    "## Basic tracing node examples"
   ]
  },
  {
   "cell_type": "markdown",
   "id": "40a4abc3-696b-4bc2-8489-3ce2efc60489",
   "metadata": {},
   "source": [
    "### Internals"
   ]
  },
  {
   "cell_type": "code",
   "execution_count": null,
   "id": "d690bf53-f5d4-4335-8f21-b95dd9e42ba7",
   "metadata": {
    "tags": []
   },
   "outputs": [],
   "source": [
    "# Tracing node with input and output\n",
    "with TracingNode(\"MyTracingNode\", inputs={\"a\": 10, \"b\": 20}) as node:\n",
    "    node.set_result(\"Lorem ipsum ...\")\n",
    "\n",
    "node.display()"
   ]
  },
  {
   "cell_type": "code",
   "execution_count": null,
   "id": "d40d7af5-d2ce-4589-abd2-babcbb5833b3",
   "metadata": {},
   "outputs": [],
   "source": [
    "# How it looks as JSON\n",
    "show(node.to_dict())"
   ]
  },
  {
   "cell_type": "code",
   "execution_count": null,
   "id": "8de3a2de-c7a3-4f7a-961a-452775c73517",
   "metadata": {
    "tags": []
   },
   "outputs": [],
   "source": [
    "# Tracing node nesting\n",
    "with TracingNode(\"MyTracingNode\") as node:\n",
    "    with TracingNode(\"ChildNode1\") as n1:\n",
    "        n1.set_result(\"result\")\n",
    "    with TracingNode(\"ChildNode2\") as n2:\n",
    "        n2.set_result(\"result2\")\n",
    "    node.set_result(\"result\")\n",
    "node.display()"
   ]
  },
  {
   "cell_type": "code",
   "execution_count": null,
   "id": "54b17e6d-689c-4560-bd58-6ab158cc1a07",
   "metadata": {
    "tags": []
   },
   "outputs": [],
   "source": []
  },
  {
   "cell_type": "markdown",
   "id": "3964518b-f3cd-40b5-baa8-58815dad1c1f",
   "metadata": {},
   "source": [
    "### Functions"
   ]
  },
  {
   "cell_type": "code",
   "execution_count": null,
   "id": "447519e9-7d51-4cc9-8f48-2ea3aca1d4c7",
   "metadata": {
    "tags": []
   },
   "outputs": [],
   "source": [
    "# Tracing decorator\n",
    "\n",
    "@with_trace\n",
    "def my_function(a, b):\n",
    "    return a + b\n",
    "\n",
    "with TracingNode(\"root\") as node:\n",
    "    my_function(10, 20)\n",
    "    \n",
    "node.display()"
   ]
  },
  {
   "cell_type": "markdown",
   "id": "261ae6ea-d084-4d08-8f6b-00b2e138caa2",
   "metadata": {},
   "source": [
    "### Exceptions"
   ]
  },
  {
   "cell_type": "code",
   "execution_count": null,
   "id": "358c8704-fda9-40c4-96b9-944b1fad871a",
   "metadata": {
    "tags": []
   },
   "outputs": [],
   "source": [
    "# Error handling\n",
    "\n",
    "@with_trace\n",
    "def my_function(a, b):\n",
    "    raise Exception(\"Oops\")\n",
    "\n",
    "try:\n",
    "    with TracingNode(\"root\") as failing_node:\n",
    "        my_function(10, 20)\n",
    "except:\n",
    "    pass\n",
    "\n",
    "failing_node.display()"
   ]
  },
  {
   "cell_type": "code",
   "execution_count": null,
   "id": "89849b74-9cf0-487a-bbaf-f670e7c2e82a",
   "metadata": {},
   "outputs": [],
   "source": [
    "# note: errors must still be handled!\n",
    "\n",
    "# This is expected to throw an error - note the tracing node would still be stored if you set up storage here\n",
    "with TracingNode(\"root\") as node:\n",
    "    my_function(1, 2)"
   ]
  },
  {
   "cell_type": "code",
   "execution_count": null,
   "id": "9d28ae58-3cb8-4479-8d21-4f80467be33a",
   "metadata": {},
   "outputs": [],
   "source": [
    "node.display()"
   ]
  },
  {
   "cell_type": "code",
   "execution_count": null,
   "id": "03a99644-e6a9-4fd3-9b6a-613835a2f4ba",
   "metadata": {},
   "outputs": [],
   "source": []
  },
  {
   "cell_type": "markdown",
   "id": "b2d48d87-40d4-4177-9127-7b66c6611dea",
   "metadata": {},
   "source": [
    "### Dataclasses"
   ]
  },
  {
   "cell_type": "code",
   "execution_count": null,
   "id": "c4b9ab8d-40c8-4762-9988-88ece04763e4",
   "metadata": {
    "tags": []
   },
   "outputs": [],
   "source": [
    "# Dataclasses are serialized for logging inside tracing nodes\n",
    "\n",
    "@dataclass\n",
    "class Person:\n",
    "    name: str\n",
    "    age: int\n",
    "    \n",
    "@with_trace\n",
    "def say_hi(person):\n",
    "    return f\"Hi {person.name}!\"\n",
    "\n",
    "with TracingNode(\"root\") as node:\n",
    "    person = Person(\"Alice\", 21)\n",
    "    say_hi(person)\n",
    "\n",
    "node.display()"
   ]
  },
  {
   "cell_type": "code",
   "execution_count": null,
   "id": "28f67ce4-9005-4551-9c64-4085eaa976fc",
   "metadata": {},
   "outputs": [],
   "source": [
    "# same with dataclass outputs\n",
    "@with_trace\n",
    "def give_birth(name):\n",
    "    return Person(age=0, name=name)\n",
    "\n",
    "with TracingNode(\"root\") as node:\n",
    "    give_birth(\"Alice\")\n",
    "\n",
    "node.display()"
   ]
  },
  {
   "cell_type": "markdown",
   "id": "ed0bd8c3-faf8-44e7-97d7-df18c78439c7",
   "metadata": {},
   "source": [
    "### Tags"
   ]
  },
  {
   "cell_type": "code",
   "execution_count": null,
   "id": "2543b8bf-516a-4315-b627-db7926ab14e0",
   "metadata": {},
   "outputs": [],
   "source": [
    "# Tags\n",
    "\n",
    "with TracingNode(\"root\", tags=[\"tag1\", \"tag2\"]) as node:\n",
    "    node.add_tag(\"exp1\")  # Add to a tracing node dynamically\n",
    "    node.add_tag(Tag(\"success!\", color=\"lightgreen\"))  # Add colored tag\n",
    "\n",
    "node.display()"
   ]
  },
  {
   "cell_type": "markdown",
   "id": "b65909dc-bfee-41e8-9ee8-98fb6efe3d1a",
   "metadata": {},
   "source": [
    "### Images and Plots"
   ]
  },
  {
   "cell_type": "code",
   "execution_count": null,
   "id": "b84af607-4fde-4d59-8cff-0cfa7cdbe6b4",
   "metadata": {},
   "outputs": [],
   "source": [
    "with TracingNode(\"root\") as root:\n",
    "    with TracingNode(\"first\", meta={\"color\": \"lightgreen\"}):\n",
    "        pass\n",
    "    with TracingNode(\"second\", meta={\"color\": \"lightblue\"}):\n",
    "        pass        \n",
    "\n",
    "    fig, ax = plt.subplots()\n",
    "    \n",
    "    fruits = ['apple', 'blueberry', 'cherry', 'orange']\n",
    "    counts = [40, 100, 30, 55]\n",
    "    bar_labels = ['red', 'blue', '_red', 'orange']\n",
    "    bar_colors = ['tab:red', 'tab:blue', 'tab:red', 'tab:orange']\n",
    "    \n",
    "    ax.bar(fruits, counts, label=bar_labels, color=bar_colors)\n",
    "    \n",
    "    with TracingNode(\"image demo\", inputs={\"my_chart\": capture_figure(fig), \"other_param\": 42}) as root2:\n",
    "        pass\n",
    "\n",
    "root.display()"
   ]
  },
  {
   "cell_type": "code",
   "execution_count": null,
   "id": "23b41f20-fe91-4894-8d5c-9f47f1140782",
   "metadata": {},
   "outputs": [],
   "source": [
    "# get current tracing node\n",
    "\n",
    "with TracingNode(\"root\") as node:\n",
    "    with TracingNode(\"child\"):\n",
    "        current_tracing_node().add_tag(\"tag1\")\n",
    "\n",
    "node.display()"
   ]
  },
  {
   "cell_type": "markdown",
   "id": "a0f4a640-9026-437b-be2f-193e561a71b8",
   "metadata": {},
   "source": [
    "### Events"
   ]
  },
  {
   "cell_type": "code",
   "execution_count": null,
   "id": "cd87bf47-b910-4f54-aea4-6077567dc5f9",
   "metadata": {},
   "outputs": [],
   "source": [
    "# Events (instant node with immediate result)\n",
    "\n",
    "with TracingNode(\"root\") as node:\n",
    "    node.add_event(\"Message to Alice\", kind=\"message\", data=\"Hi, Alice!\")\n",
    "\n",
    "node.display()"
   ]
  },
  {
   "cell_type": "markdown",
   "id": "faab39e4-0488-47b5-af6a-8e046ea0bdb6",
   "metadata": {},
   "source": [
    "### Storage"
   ]
  },
  {
   "cell_type": "code",
   "execution_count": null,
   "id": "ba0d2484-3e67-4657-b605-25ff77410c05",
   "metadata": {},
   "outputs": [],
   "source": [
    "# Register a tracing node into storage\n",
    "storage=FileStorage(\"/tmp/interlab\")\n",
    "with TracingNode(\"root1\", storage=storage):\n",
    "    pass\n"
   ]
  },
  {
   "cell_type": "code",
   "execution_count": null,
   "id": "a018fb25-9800-4fdf-b735-963965bdc0f3",
   "metadata": {},
   "outputs": [],
   "source": [
    "# Manual writing a tracing node into storage\n",
    "\n",
    "with TracingNode(\"root2\", tags=[\"hello\"]) as c:\n",
    "    pass\n",
    "\n",
    "storage.write_node(c)"
   ]
  },
  {
   "cell_type": "code",
   "execution_count": null,
   "id": "84fc110b-30a9-44ed-a145-bf154cf815e9",
   "metadata": {},
   "outputs": [],
   "source": [
    "# with block and storage; all root tracing nodes in storage block are written in storage\n",
    "\n",
    "with storage:\n",
    "    with TracingNode(\"root3\"):  # <-- This node is root; it is automatcally written in storage\n",
    "        with TracingNode(\"child\"): # <-- This node is not root; not automatically written in storage\n",
    "            pass"
   ]
  },
  {
   "cell_type": "code",
   "execution_count": null,
   "id": "4c582166-799b-4e4e-a669-6af9d7d0863a",
   "metadata": {},
   "outputs": [],
   "source": [
    "# Composing directory structure with tracing nodes:\n",
    "# each node subtree marked with `directory=True` gets stored in a separete json rather than in the main json\n",
    "\n",
    "with TracingNode(\"root4\", storage=storage, directory=True) as root:\n",
    "    with TracingNode(\"first child\", directory=True):\n",
    "        with TracingNode(\"a\"):\n",
    "            pass\n",
    "        with TracingNode(\"b\", tags=[\"hello\"]):\n",
    "            pass\n",
    "    with TracingNode(\"second child\", directory=True):\n",
    "        with TracingNode(\"a\"):\n",
    "            pass\n",
    "        with TracingNode(\"b\"):\n",
    "            pass\n",
    "\n",
    "import pathlib\n",
    "list(pathlib.Path(f\"{storage.directory}/{root.uid}.ctx\").rglob(\"*\"))"
   ]
  },
  {
   "cell_type": "markdown",
   "id": "27d4aabe-8ab7-4170-8e08-12bf12c7b540",
   "metadata": {},
   "source": [
    "### Data browser"
   ]
  },
  {
   "cell_type": "code",
   "execution_count": null,
   "id": "55028a5f-2ce6-4340-8424-36a9e2db7664",
   "metadata": {},
   "outputs": [],
   "source": [
    "# Running data browser over storage\n",
    "\n",
    "storage.start_server(port=5000)"
   ]
  },
  {
   "cell_type": "code",
   "execution_count": null,
   "id": "b538dea8-0ba9-42d9-a939-2c5691461be8",
   "metadata": {},
   "outputs": [],
   "source": [
    "# Show live content of storage\n",
    "storage.live_display()"
   ]
  },
  {
   "cell_type": "code",
   "execution_count": null,
   "id": "f5ac9b2c-0e46-4335-b8f9-94c564da328f",
   "metadata": {},
   "outputs": [],
   "source": [
    "# Long running cell, you can observe it in browser in running state (nneds to be refreshed manually)\n",
    "\n",
    "with TracingNode(\"Long running\", storage=storage):\n",
    "    with TracingNode(\"Child1\"):\n",
    "        import time\n",
    "        time.sleep(10)"
   ]
  },
  {
   "cell_type": "code",
   "execution_count": null,
   "id": "85092727-63fa-46be-b810-c594a5f80469",
   "metadata": {},
   "outputs": [],
   "source": [
    "# Read all stored (root) nodes\n",
    "\n",
    "for node in storage.read_all_nodes():\n",
    "    print(node.uid, node.name)"
   ]
  },
  {
   "cell_type": "code",
   "execution_count": null,
   "id": "fcf86e95-dbbb-4d7b-b4a8-3ea4a5ed4948",
   "metadata": {},
   "outputs": [],
   "source": [
    "# Recursively search for specific tracing nodes\n",
    "\n",
    "for node in storage.find_nodes(lambda ctx: ctx.has_tag_name(\"hello\")):\n",
    "    print(node.uid, node.name)"
   ]
  },
  {
   "cell_type": "code",
   "execution_count": null,
   "id": "7caf5ab5-ee58-415e-8ef9-e539fdc1ab4a",
   "metadata": {},
   "outputs": [],
   "source": [
    "# Read a tracing node by uid\n",
    "\n",
    "node = storage.read_node(root.uid)\n",
    "print(node.uid, node.name)\n",
    "\n",
    "\n",
    "# Search in specific tracing nodes\n",
    "\n",
    "node.find_nodes(lambda x: x.name == \"a\")"
   ]
  },
  {
   "cell_type": "code",
   "execution_count": null,
   "id": "0c0ebd6d-432b-4c65-bbf9-c0d949f76ae3",
   "metadata": {},
   "outputs": [],
   "source": []
  }
 ],
 "metadata": {
  "kernelspec": {
   "display_name": "Python 3 (ipykernel)",
   "language": "python",
   "name": "python3"
  },
  "language_info": {
   "codemirror_mode": {
    "name": "ipython",
    "version": 3
   },
   "file_extension": ".py",
   "mimetype": "text/x-python",
   "name": "python",
   "nbconvert_exporter": "python",
   "pygments_lexer": "ipython3",
   "version": "3.10.12"
  }
 },
 "nbformat": 4,
 "nbformat_minor": 5
}
