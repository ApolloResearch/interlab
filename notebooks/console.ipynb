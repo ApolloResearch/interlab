{
 "cells": [
  {
   "cell_type": "code",
   "execution_count": null,
   "id": "8a96b78d-76b6-4dce-a161-e6bfb318b0c1",
   "metadata": {},
   "outputs": [],
   "source": [
    "%load_ext autoreload\n",
    "%autoreload 2\n",
    "\n",
    "from dataclasses import dataclass\n",
    "import enum\n",
    "from interlab.llm.engines import ConsoleEngine\n",
    "from interlab.actors.console_actor import ConsoleActor"
   ]
  },
  {
   "cell_type": "code",
   "execution_count": null,
   "id": "0a58e505-6f82-41f7-9221-98c23d1bd0c3",
   "metadata": {},
   "outputs": [],
   "source": [
    "engine = ConsoleEngine(\"Console of ConsoleEngine\")\n",
    "engine.display(width=800, height=600)"
   ]
  },
  {
   "cell_type": "code",
   "execution_count": null,
   "id": "096624f8-eb42-4d2c-9bd0-85888bf6965d",
   "metadata": {},
   "outputs": [],
   "source": [
    "# This will let you enter your reply in the console, blocking the notebook util you do\n",
    "# You can press Ctrl+Enter to send the message\n",
    "\n",
    "result = engine.query(\"\"\"Who are you?\n",
    "Write your answer to the prompt as a single JSON conforming to the following JSON schema:\\n\n",
    "\n",
    "SCHEMA\n",
    "```json\n",
    "{\n",
    "   \"title\":\"Person form\",\n",
    "   \"type\":\"object\",\n",
    "   \"properties\":{\n",
    "      \"name\":{\n",
    "         \"type\":\"string\"\n",
    "      },\n",
    "      \"age\":{\n",
    "         \"type\":\"number\"\n",
    "      }\n",
    "   }\n",
    "}\n",
    "```\n",
    "END_OF_SCHEMA\n",
    "\"\"\")\n",
    "print(f\"Returned: {result!r}\")"
   ]
  },
  {
   "cell_type": "code",
   "execution_count": null,
   "id": "35d1c3a5-b763-4df9-9baf-24cbd3834b85",
   "metadata": {},
   "outputs": [],
   "source": []
  },
  {
   "cell_type": "code",
   "execution_count": null,
   "id": "3926163c-b68f-4079-98fd-700573ec482c",
   "metadata": {},
   "outputs": [],
   "source": []
  },
  {
   "cell_type": "code",
   "execution_count": null,
   "id": "dbe69a29-624c-40ff-9e9e-766c08537b77",
   "metadata": {},
   "outputs": [],
   "source": [
    "actor = ConsoleActor(\"Console of ConsoleActor\")\n",
    "actor.display(width=800, height=600)"
   ]
  },
  {
   "cell_type": "code",
   "execution_count": null,
   "id": "29cc96d4-357d-4271-8f37-9fa4f3e0ae30",
   "metadata": {},
   "outputs": [],
   "source": [
    "# By default, action is just `str`\n",
    "\n",
    "a = actor.act(\"How do you plead?\")\n",
    "print(f\"Returned: {a!r}\")"
   ]
  },
  {
   "cell_type": "code",
   "execution_count": null,
   "id": "7ef645a2-ae97-4f50-aff4-1c4109531894",
   "metadata": {},
   "outputs": [],
   "source": [
    "# Also supports expected_type and tries to parse it, but any better formatting, repetition etc are WIP\n",
    "\n",
    "class DogTitle(enum.Enum):\n",
    "    GB = \"Good boy\"\n",
    "    GG = \"Good girl\"\n",
    "    TBD = \"The Best Dog!\"\n",
    "    \n",
    "@dataclass\n",
    "class Dog:\n",
    "    name: str\n",
    "    age: int | None = None\n",
    "    title: DogTitle = DogTitle.TBD\n",
    "\n",
    "a = actor.act('Enter Dog\\'s data. Hint: try {\"name\": \"Lassie\", \"age\": 6} ', expected_type=Dog)\n",
    "print(f\"Returned: {a!r}\")"
   ]
  }
 ],
 "metadata": {
  "kernelspec": {
   "display_name": "Python 3 (ipykernel)",
   "language": "python",
   "name": "python3"
  },
  "language_info": {
   "codemirror_mode": {
    "name": "ipython",
    "version": 3
   },
   "file_extension": ".py",
   "mimetype": "text/x-python",
   "name": "python",
   "nbconvert_exporter": "python",
   "pygments_lexer": "ipython3",
   "version": "3.10.6"
  }
 },
 "nbformat": 4,
 "nbformat_minor": 5
}
