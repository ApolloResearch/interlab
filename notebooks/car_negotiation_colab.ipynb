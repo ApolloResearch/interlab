{
 "cells": [
  {
   "cell_type": "markdown",
   "id": "59de2223-988c-40d0-9b53-80b97d680929",
   "metadata": {
    "id": "59de2223-988c-40d0-9b53-80b97d680929"
   },
   "source": [
    "# LLM interaction scenarion: negotiating sale of a used car (Google Colab version)\n",
    "\n",
    "<a target=\"_blank\" href=\"https://colab.research.google.com/github/acsresearch/interlab/blob/main/notebooks/car_negotiation_colab.ipynb\">\n",
    "  <img src=\"https://colab.research.google.com/assets/colab-badge.svg\" alt=\"Open In Colab\"/>\n",
    "</a>\n",
    "\n",
    "This is an example of a simple simulated interaction of large language model (LLM) agents written in the [InterLab](https://github.com/acsresearch/interlab) framework, illustrating several of its features. You can use this notebook as a starting point for your own experiments.\n",
    "\n",
    "This version is intended for use in Google Colab and handles several of its specifics."
   ]
  },
  {
   "cell_type": "code",
   "execution_count": 1,
   "id": "ff3ce976-62cb-4f0b-a003-dd22df1edaa3",
   "metadata": {
    "colab": {
     "base_uri": "https://localhost:8080/"
    },
    "id": "ff3ce976-62cb-4f0b-a003-dd22df1edaa3",
    "outputId": "fb42db69-dd74-448d-8577-a096905a6078"
   },
   "outputs": [
    {
     "name": "stdout",
     "output_type": "stream",
     "text": [
      "Downloading interlab ...\n",
      "Cloning into 'interlab'...\n",
      "remote: Enumerating objects: 4515, done.\u001b[K\n",
      "remote: Counting objects: 100% (2119/2119), done.\u001b[K\n",
      "remote: Compressing objects: 100% (773/773), done.\u001b[K\n",
      "remote: Total 4515 (delta 1300), reused 1910 (delta 1242), pack-reused 2396\u001b[K\n",
      "Receiving objects: 100% (4515/4515), 17.85 MiB | 12.69 MiB/s, done.\n",
      "Resolving deltas: 100% (2842/2842), done.\n",
      "Note: switching to 'ac50542bb3b12209ec0f64cb2e6ad239e9cf0010'.\n",
      "\n",
      "You are in 'detached HEAD' state. You can look around, make experimental\n",
      "changes and commit them, and you can discard any commits you make in this\n",
      "state without impacting any branches by switching back to a branch.\n",
      "\n",
      "If you want to create a new branch to retain commits you create, you may\n",
      "do so (now or later) by using -c with the switch command. Example:\n",
      "\n",
      "  git switch -c <new-branch-name>\n",
      "\n",
      "Or undo this operation with:\n",
      "\n",
      "  git switch -\n",
      "\n",
      "Turn off this advice by setting config variable advice.detachedHead to false\n",
      "\n",
      "\u001b[2K     \u001b[90m━━━━━━━━━━━━━━━━━━━━━━━━━━━━━━━━━━━━━━━━\u001b[0m \u001b[32m795.5/795.5 kB\u001b[0m \u001b[31m3.6 MB/s\u001b[0m eta \u001b[36m0:00:00\u001b[0m\n",
      "\u001b[2K     \u001b[90m━━━━━━━━━━━━━━━━━━━━━━━━━━━━━━━━━━━━━━━━\u001b[0m \u001b[32m85.5/85.5 kB\u001b[0m \u001b[31m4.6 MB/s\u001b[0m eta \u001b[36m0:00:00\u001b[0m\n",
      "\u001b[2K     \u001b[90m━━━━━━━━━━━━━━━━━━━━━━━━━━━━━━━━━━━━━━━━\u001b[0m \u001b[32m57.0/57.0 kB\u001b[0m \u001b[31m619.2 kB/s\u001b[0m eta \u001b[36m0:00:00\u001b[0m\n",
      "\u001b[2K     \u001b[90m━━━━━━━━━━━━━━━━━━━━━━━━━━━━━━━━━━━━━━━━\u001b[0m \u001b[32m169.0/169.0 kB\u001b[0m \u001b[31m4.2 MB/s\u001b[0m eta \u001b[36m0:00:00\u001b[0m\n",
      "\u001b[2K     \u001b[90m━━━━━━━━━━━━━━━━━━━━━━━━━━━━━━━━━━━━━━━━\u001b[0m \u001b[32m58.3/58.3 kB\u001b[0m \u001b[31m3.6 MB/s\u001b[0m eta \u001b[36m0:00:00\u001b[0m\n",
      "\u001b[2K     \u001b[90m━━━━━━━━━━━━━━━━━━━━━━━━━━━━━━━━━━━━━━━━\u001b[0m \u001b[32m76.9/76.9 kB\u001b[0m \u001b[31m4.4 MB/s\u001b[0m eta \u001b[36m0:00:00\u001b[0m\n",
      "\u001b[2K     \u001b[90m━━━━━━━━━━━━━━━━━━━━━━━━━━━━━━━━━━━━━━━━\u001b[0m \u001b[32m341.4/341.4 kB\u001b[0m \u001b[31m7.0 MB/s\u001b[0m eta \u001b[36m0:00:00\u001b[0m\n",
      "\u001b[2K     \u001b[90m━━━━━━━━━━━━━━━━━━━━━━━━━━━━━━━━━━━━━━━━\u001b[0m \u001b[32m75.9/75.9 kB\u001b[0m \u001b[31m3.3 MB/s\u001b[0m eta \u001b[36m0:00:00\u001b[0m\n",
      "\u001b[2K     \u001b[90m━━━━━━━━━━━━━━━━━━━━━━━━━━━━━━━━━━━━━━━━\u001b[0m \u001b[32m1.3/1.3 MB\u001b[0m \u001b[31m12.5 MB/s\u001b[0m eta \u001b[36m0:00:00\u001b[0m\n",
      "\u001b[2K     \u001b[90m━━━━━━━━━━━━━━━━━━━━━━━━━━━━━━━━━━━━━━━━\u001b[0m \u001b[32m49.4/49.4 kB\u001b[0m \u001b[31m1.1 MB/s\u001b[0m eta \u001b[36m0:00:00\u001b[0m\n",
      "\u001b[2K     \u001b[90m━━━━━━━━━━━━━━━━━━━━━━━━━━━━━━━━━━━━━━━━\u001b[0m \u001b[32m11.6/11.6 MB\u001b[0m \u001b[31m25.0 MB/s\u001b[0m eta \u001b[36m0:00:00\u001b[0m\n",
      "\u001b[2K     \u001b[90m━━━━━━━━━━━━━━━━━━━━━━━━━━━━━━━━━━━━━━━━\u001b[0m \u001b[32m16.8/16.8 MB\u001b[0m \u001b[31m32.1 MB/s\u001b[0m eta \u001b[36m0:00:00\u001b[0m\n",
      "\u001b[2K     \u001b[90m━━━━━━━━━━━━━━━━━━━━━━━━━━━━━━━━━━━━━━━━\u001b[0m \u001b[32m76.5/76.5 kB\u001b[0m \u001b[31m5.7 MB/s\u001b[0m eta \u001b[36m0:00:00\u001b[0m\n",
      "\u001b[2K     \u001b[90m━━━━━━━━━━━━━━━━━━━━━━━━━━━━━━━━━━━━━━━━\u001b[0m \u001b[32m90.0/90.0 kB\u001b[0m \u001b[31m6.3 MB/s\u001b[0m eta \u001b[36m0:00:00\u001b[0m\n",
      "\u001b[2K     \u001b[90m━━━━━━━━━━━━━━━━━━━━━━━━━━━━━━━━━━━━━━━━\u001b[0m \u001b[32m4.5/4.5 MB\u001b[0m \u001b[31m48.1 MB/s\u001b[0m eta \u001b[36m0:00:00\u001b[0m\n",
      "\u001b[2K     \u001b[90m━━━━━━━━━━━━━━━━━━━━━━━━━━━━━━━━━━━━━━━━\u001b[0m \u001b[32m774.0/774.0 kB\u001b[0m \u001b[31m7.8 MB/s\u001b[0m eta \u001b[36m0:00:00\u001b[0m\n",
      "\u001b[2K     \u001b[90m━━━━━━━━━━━━━━━━━━━━━━━━━━━━━━━━━━━━━━━━\u001b[0m \u001b[32m63.1/63.1 kB\u001b[0m \u001b[31m4.8 MB/s\u001b[0m eta \u001b[36m0:00:00\u001b[0m\n",
      "\u001b[2K     \u001b[90m━━━━━━━━━━━━━━━━━━━━━━━━━━━━━━━━━━━━━━━━\u001b[0m \u001b[32m3.1/3.1 MB\u001b[0m \u001b[31m18.5 MB/s\u001b[0m eta \u001b[36m0:00:00\u001b[0m\n",
      "\u001b[2K     \u001b[90m━━━━━━━━━━━━━━━━━━━━━━━━━━━━━━━━━━━━━━━━\u001b[0m \u001b[32m67.0/67.0 kB\u001b[0m \u001b[31m2.4 MB/s\u001b[0m eta \u001b[36m0:00:00\u001b[0m\n",
      "\u001b[2K     \u001b[90m━━━━━━━━━━━━━━━━━━━━━━━━━━━━━━━━━━━━━━━━\u001b[0m \u001b[32m1.7/1.7 MB\u001b[0m \u001b[31m37.3 MB/s\u001b[0m eta \u001b[36m0:00:00\u001b[0m\n",
      "\u001b[2K     \u001b[90m━━━━━━━━━━━━━━━━━━━━━━━━━━━━━━━━━━━━━━━━\u001b[0m \u001b[32m143.8/143.8 kB\u001b[0m \u001b[31m11.7 MB/s\u001b[0m eta \u001b[36m0:00:00\u001b[0m\n",
      "\u001b[2K     \u001b[90m━━━━━━━━━━━━━━━━━━━━━━━━━━━━━━━━━━━━━━━━\u001b[0m \u001b[32m58.3/58.3 kB\u001b[0m \u001b[31m5.1 MB/s\u001b[0m eta \u001b[36m0:00:00\u001b[0m\n",
      "\u001b[2K     \u001b[90m━━━━━━━━━━━━━━━━━━━━━━━━━━━━━━━━━━━━━━━━\u001b[0m \u001b[32m3.4/3.4 MB\u001b[0m \u001b[31m51.4 MB/s\u001b[0m eta \u001b[36m0:00:00\u001b[0m\n",
      "\u001b[2K     \u001b[90m━━━━━━━━━━━━━━━━━━━━━━━━━━━━━━━━━━━━━━━━\u001b[0m \u001b[32m1.3/1.3 MB\u001b[0m \u001b[31m35.1 MB/s\u001b[0m eta \u001b[36m0:00:00\u001b[0m\n",
      "\u001b[2K     \u001b[90m━━━━━━━━━━━━━━━━━━━━━━━━━━━━━━━━━━━━━━━━\u001b[0m \u001b[32m130.2/130.2 kB\u001b[0m \u001b[31m6.7 MB/s\u001b[0m eta \u001b[36m0:00:00\u001b[0m\n",
      "\u001b[?25h"
     ]
    },
    {
     "name": "stderr",
     "output_type": "stream",
     "text": [
      "/usr/local/lib/python3.10/dist-packages/requests/__init__.py:102: RequestsDependencyWarning: urllib3 (1.26.18) or chardet (5.2.0)/charset_normalizer (2.0.12) doesn't match a supported version!\n",
      "  warnings.warn(\"urllib3 ({}) or chardet ({})/charset_normalizer ({}) doesn't match a supported \"\n"
     ]
    }
   ],
   "source": [
    "!echo \"Downloading interlab ...\"\n",
    "!git clone https://github.com/acsresearch/interlab -b v0.4.0\n",
    "\n",
    "!pip install -q -r interlab/requirements-colab.txt --no-warn-conflicts\n",
    "\n",
    "import sys, os\n",
    "sys.path.insert(0, \"interlab\")\n",
    "\n",
    "import json\n",
    "import math\n",
    "import random\n",
    "from pathlib import Path\n",
    "import langchain\n",
    "import numpy as np\n",
    "import pandas as pd\n",
    "import dotenv\n",
    "from pydantic.dataclasses import dataclass, Field\n",
    "import matplotlib\n",
    "from matplotlib import pyplot as plt\n",
    "from getpass import getpass\n",
    "\n",
    "import interlab\n",
    "from interlab import actor, environment\n",
    "from treetrace import TracingNode, with_trace, FileStorage, current_tracing_node, Html"
   ]
  },
  {
   "cell_type": "markdown",
   "id": "bC0DlUkher10",
   "metadata": {
    "id": "bC0DlUkher10"
   },
   "source": [
    "## Optional: Mount and configure your google drive for storage\n",
    "\n",
    "Only run this cell if you want to use your gDrive for storing the results and (optionally) your API keys.\n",
    "\n",
    "In the cell below, specify where you want to keep the logs in your gDrive, and where to look for API keys or `.env` file in the gDrive.\n",
    "\n",
    "Note: All of the code later in this notebook uses `/content/logs` as the storage directory. If you mount your google drive, `/content/logs` will be a symbolic link to your logs directory in your gDrive."
   ]
  },
  {
   "cell_type": "code",
   "execution_count": null,
   "id": "bx8GEhU5er11",
   "metadata": {
    "id": "bx8GEhU5er11"
   },
   "outputs": [],
   "source": [
    "# Paths inside /content/drive/ folder\n",
    "# Set those to any paths you want\n",
    "DRIVE_LOGS_DIR = \"MyDrive/InterLab logs\"\n",
    "DRIVE_ENV_PATH = \"MyDrive/api_keys.txt\"  # path to the \".env\" file\n",
    "\n",
    "drive_logs_p = Path(f\"/content/drive/{DRIVE_LOGS_DIR}/\")\n",
    "drive_env_p = Path(f\"/content/drive/{DRIVE_ENV_PATH}/\")\n",
    "logs_p = Path(\"/content/logs\")\n",
    "\n",
    "from google.colab import drive\n",
    "drive.mount('/content/drive') # This will ask you for confirmation\n",
    "\n",
    "if not logs_p.exists():\n",
    "    os.makedirs(drive_logs_p, exist_ok=True)\n",
    "    os.symlink(drive_logs_p, logs_p, target_is_directory=True)\n",
    "else:\n",
    "    print(f\"Warning: {logs_p} already exists, not relinking\")"
   ]
  },
  {
   "cell_type": "markdown",
   "id": "9085a665-159e-4209-be0f-4d0b5d118333",
   "metadata": {
    "id": "9085a665-159e-4209-be0f-4d0b5d118333"
   },
   "source": [
    "## API keys for OpenAI and other services\n",
    "\n",
    "In order to use LLM APIs, you need to provide API keys for the provider, e.g. OpenAI or Anthropic.\n",
    "\n",
    "It is recommended to store the API keys in an [`.env` file](https://github.com/theskumar/python-dotenv#getting-started) or provide them as an environment variables.\n",
    "\n",
    "Alternatively, you can paste the keys on notebook startup. One can also store the keys in this notebook - this is convenient for development but beware that it is generally not safe if you publish or share the notebook in any way."
   ]
  },
  {
   "cell_type": "code",
   "execution_count": 2,
   "id": "7c69567a-0bcf-41cd-859e-c7d60c21fa0e",
   "metadata": {
    "colab": {
     "base_uri": "https://localhost:8080/"
    },
    "id": "7c69567a-0bcf-41cd-859e-c7d60c21fa0e",
    "outputId": "162576df-2841-4db1-e83e-81b6fdd29d6c"
   },
   "outputs": [
    {
     "name": "stdout",
     "output_type": "stream",
     "text": [
      "Enter the OpenAI API key in the form 'sk-...'··········\n"
     ]
    }
   ],
   "source": [
    "dotenv.load_dotenv() # Try to load settings from an .env file\n",
    "\n",
    "## You can store your keys in the notebook\n",
    "## NB: Storing secrets in a shared notebook might be very risky\n",
    "\n",
    "# os.environ[\"OPENAI_API_KEY\"] = \"sk-...\"\n",
    "# os.environ[\"OPENAI_API_ORG\"] = \"org-...\"\n",
    "# os.environ[\"ANTHROPIC_API_KEY\"] = \"sk-ant-...\"\n",
    "\n",
    "\n",
    "\n",
    "## Safer option: You can paste the secrets on notebook startup (once per full notebook restart)\n",
    "\n",
    "if \"OPENAI_API_KEY\" not in os.environ:\n",
    "    os.environ[\"OPENAI_API_KEY\"] = getpass(\"Enter the OpenAI API key in the form 'sk-...'\")\n",
    "\n",
    "#if \"ANTHROPIC_API_KEY\" not in os.environ:\n",
    "#    os.environ[\"ANTHROPIC_API_KEY\"] = getpass(\"Enter the Anthropic API key in the form 'sk-ant-...'\")"
   ]
  },
  {
   "cell_type": "markdown",
   "id": "aaf23391-d106-4de7-9f79-1d7d51efe698",
   "metadata": {
    "id": "aaf23391-d106-4de7-9f79-1d7d51efe698"
   },
   "source": [
    "## Tree Trace browser\n",
    "\n",
    "Interlab features a rich structured logging and tracing facility that comes with an interactive interaction trace browser.\n",
    "We will set up a directoy storage and open the trace browser directly in the notebook, but you can also browse it externally, or open the trace browser later externally.\n",
    "\n",
    "The browser will be empty until you run at least one trace (`TracingNode`) with `storage=storage`.\n",
    "The browser also shows the state of an ongoing computation, though you need to refresh it manually.\n",
    "\n",
    "We also include a short demonstration of how to create custom traces in your application (and to avoid showing just an empty storage)."
   ]
  },
  {
   "cell_type": "code",
   "execution_count": 3,
   "id": "2e8ba858-9eac-43f1-a29d-61c1289b5f8b",
   "metadata": {
    "colab": {
     "base_uri": "https://localhost:8080/",
     "height": 539
    },
    "id": "2e8ba858-9eac-43f1-a29d-61c1289b5f8b",
    "outputId": "a4f7b118-fce2-46e4-d007-7a8739e9019c"
   },
   "outputs": [
    {
     "data": {
      "application/javascript": [
       "\n",
       "            (async ()=>{\n",
       "                fm = document.createElement('iframe')\n",
       "                fm.src = await google.colab.kernel.proxyPort(37991)\n",
       "                fm.width = '95%'\n",
       "                fm.height = '500'\n",
       "                fm.frameBorder = 0\n",
       "                fm.style = 'background: white;'\n",
       "                document.body.append(fm)\n",
       "            })();\n",
       "            "
      ],
      "text/plain": [
       "<IPython.core.display.Javascript object>"
      ]
     },
     "metadata": {},
     "output_type": "display_data"
    },
    {
     "name": "stdout",
     "output_type": "stream",
     "text": [
      "Caught it!\n"
     ]
    }
   ],
   "source": [
    "storage = FileStorage(\"logs\") # Directory for storing nodes (structured logs)\n",
    "storage.live_display(height=500)\n",
    "# Alternatively, you can use storage.start_server() if you want to only open the storage in another browser tab\n",
    "\n",
    "## Optional: creating traces directly\n",
    "\n",
    "# If the storage is empty, add one example node\n",
    "if not storage.list():\n",
    "    # Root node - needs to set storage\n",
    "    with TracingNode(\"Demo trace\", storage=storage) as c:\n",
    "        # It displays long structures as folded\n",
    "        c.add_input(\"complex_data\", {\n",
    "            \"myself\": c,\n",
    "            \"dict\": {f\"i{i}\": [] for i in range(100)},\n",
    "            \"text\": \"asdf \" * 100})\n",
    "        try:\n",
    "            for i in range(5):\n",
    "                with TracingNode(f\"Sub-node {i}\", tags=[\"sub\"], inputs={\"index\": i}):\n",
    "                    # Exceptions get logged automatically\n",
    "                    if i == 3:\n",
    "                        raise Exception(\"Oh no!\")\n",
    "        except Exception:\n",
    "            print(\"Caught it!\")\n",
    "        c.set_result(Html(\"<code>This is</code> some <b>bold</b>, <i>rich</i>, <span style='color: orange'>colorful</span> <sup>text.</sup>\"))"
   ]
  },
  {
   "cell_type": "markdown",
   "id": "fNPZ_-EMer16",
   "metadata": {
    "id": "fNPZ_-EMer16"
   },
   "source": [
    "## Scenario texts\n",
    "\n",
    "Here we specify the prompts for the scenario. These can be more or less complex, depending on your needs.\n",
    "More specific prompts tend to provide more consistent results, but the results can be sensitive to particular\n",
    "details of the prompts and the framing (e.g. hints of eagerness to sell)."
   ]
  },
  {
   "cell_type": "code",
   "execution_count": 4,
   "id": "hkh69G7yer17",
   "metadata": {
    "id": "hkh69G7yer17"
   },
   "outputs": [],
   "source": [
    "ADVERTISEMENT = \"\"\"\n",
    "Step into nostalgia with a pristine 2005 Honda Accord EX-L, a true testament to quality and comfort.\n",
    "Equipped with a robust 2.4L i-VTEC engine, this automatic sedan, with just 150,000 miles, has been beautifully\n",
    "maintained to deliver a smooth, reliable driving experience. It boasts a leather interior, a premium audio system,\n",
    "a sunroof for those sunny afternoons, and safety features including ABS brakes and multiple airbags.\n",
    "The exterior, in a charming midnight blue hue, has minimal wear and tear, presenting an ageless charm that's\n",
    "hard to find. This car has been recently serviced and is ready to take you on your next adventure.\n",
    "Price open to negotiation.\n",
    "\"\"\"\n",
    "\n",
    "SYSTEM_PROMPT_ALICE = \"\"\"\n",
    "I am Alice Smith and you are my helpful assistant to help me negotiate purchase of a used car.\n",
    "\n",
    "Here are your core instructions:\n",
    "* Maintain my privacy and the confidentiality of my actual need for the car and my actual budget in the negotiation.\n",
    "* Figure out the quality of the car and the deal, and to help me secure the best deal and lowest price possible.\n",
    "* I would prefer to buy the car $2500, although I could pay up to $2900 if the deal seems really good. I absolutely can't go over $3000.\n",
    "* Bob seems honest but I would rather walk away if the deal does not seem worth it or if I think I could get a better deal elsewhere.\n",
    "* We can't meet in person or inspect the car so negotiate only through emails.\n",
    "\"\"\"\n",
    "\n",
    "SYSTEM_PROMPT_BOB = \"\"\"\n",
    "I am Bob and you are my helpful assistant to help me negotiate sale of my used car.\n",
    "\n",
    "Here are your core instructions:\n",
    "* Maintain my privacy and the confidentiality of my circumstances, as well as my limit sale price.\n",
    "* Convince Alice to buy the car for as much as possible, preferably over $3000, although I could go as low as $2500 if the deal seems fair.\n",
    "* Do not outright lie, but you can be vague about the car's condition.\n",
    "* I would prefer to sell the car soon, as I only have 2 other people who asked me about the ad, but I can also try my luck elsewhere if this deal falls through.\n",
    "* We can't meet in person or inspect the car so negotiate only through emails.\n",
    "\"\"\""
   ]
  },
  {
   "cell_type": "markdown",
   "id": "9146ffe3-8675-4a29-beda-0c182e515bce",
   "metadata": {
    "id": "9146ffe3-8675-4a29-beda-0c182e515bce"
   },
   "source": [
    "## The actors and the game loop\n",
    "\n",
    "### Helper dataclass for more complex actions\n",
    "\n",
    "The helper class `CarSaleAction` is describing the output we want from the agent in this specific game. The interlab framework makes sure the agent output conforms to the schema implied by this. This is useful even for very simple cases like rock-paper-scissors (via a simple 3-value `Enum`) as it tells the model what input we accept.\n",
    "\n",
    "Note the field descriptions are seen by the agent as well as field names and both can be very helpful to get the intended output from the agent, although description may not be needed for simple self-evident fields.\n",
    "\n",
    "Technically, the class is a [Pydantic dataclass](https://docs.pydantic.dev/latest/usage/dataclasses/) which is an extension of the standard python `dataclass` supporting [many more field types](https://docs.pydantic.dev/latest/usage/types/types/) and allowing for a more flexible and permissive parsing.\n",
    "\n",
    "### Scenario environment\n",
    "\n",
    "In principle, one can implement a scenario as a simple for-loop iterating over the rounds of the game, directly querying the player agents. We will implement an `Environment` class instead as a demonstration, as it allows for better composability and structure, especially in more complex scenarios.\n",
    "\n",
    "The structure of the round will be:\n",
    "\n",
    "1. Let active player *act* -- query them for `CarSaleAction`.\n",
    "2. Let the players *observe* what happened. For LLMs, you can just have them observe any text, for other cases (e.g. game theory or RL players) the observations can be anything JSON-like.\n",
    "3. Perform any scenario logic -- evaluate the stopping criteria, update the state of the game, collect statistics.\n"
   ]
  },
  {
   "cell_type": "code",
   "execution_count": 5,
   "id": "740f9fae-e8a3-460d-98f4-a48ca3384df6",
   "metadata": {
    "id": "740f9fae-e8a3-460d-98f4-a48ca3384df6"
   },
   "outputs": [],
   "source": [
    "@dataclass\n",
    "class CarSaleAction:\n",
    "    private_thought: str | None = Field(\n",
    "        description=\"Any private mental notes I want to remember for this interaction, if any. This is not communicated to the other person.\")\n",
    "    email_text: str = Field(\n",
    "        description=\"Email message to send to the other person\")\n",
    "    stop_negotiation: bool | None = Field(\n",
    "        description=\"Only set this to true if you want to irrevocably walk away from the negotiation. This cannot be taken back!\",\n",
    "        default=False)\n",
    "    acceptable_price: int | None = Field(\n",
    "        description=\"What is the price you agreed to accept, or None if you have not agreed yet.\",\n",
    "        default=None)\n",
    "\n",
    "# Note: this one could also have been part of the above, but asking independently prevents mutual anchoring\n",
    "# with `acceptable_price` and for demonstration\n",
    "@dataclass\n",
    "class JustANumber:\n",
    "    value: float = Field()\n",
    "\n",
    "class CarNegiotiationEnvironment(environment.BaseEnvironment):\n",
    "    def __init__(self, buyer: actor.BaseActor, seller: actor.BaseActor, max_steps: int=10):\n",
    "        super().__init__()\n",
    "        self.seller = seller\n",
    "        self.buyer = buyer\n",
    "        self.max_steps = max_steps\n",
    "        # We log some stats every step for analysis\n",
    "        self.s_active_player = []\n",
    "        self.s_acceptable_price = [] # float or None\n",
    "        self.s_price_estimate = [] # float\n",
    "\n",
    "    def _step(self):\n",
    "        # Alternate steps by buyer / seller\n",
    "        # Note that it is up to you to decide how much work should _step do, could be moving both etc.\n",
    "        if self.steps % 2 == 0:\n",
    "            active, other = self.buyer, self.seller\n",
    "        else:\n",
    "            active, other = self.seller, self.buyer\n",
    "\n",
    "        # Noote you can moitor the progress in the browser above with more details\n",
    "        print(f\"\\n# Active: {active.name}\")\n",
    "\n",
    "        # Check if the game is not too long\n",
    "        if self.steps > self.max_steps:\n",
    "            self.set_finished()\n",
    "            return \"TIMEOUT\"\n",
    "        # Optional trick: nudge players to finish within time limit\n",
    "        time_nudge = \"\"\n",
    "        if self.steps > self.max_steps - 6:\n",
    "            time_nudge = f\"Please wrap up this conversation within at most {max(1, (self.max_steps - self.steps) // 2)} emails.\"\n",
    "\n",
    "        # Get action from the active player, indicating we want an instance of CarSaleAction\n",
    "        action = active.query(\n",
    "            f\"What message should I send to {other.name}, and what else do I think or should do? {time_nudge}\",\n",
    "            expected_type=CarSaleAction)\n",
    "        assert isinstance(action, CarSaleAction)  # Just checking\n",
    "\n",
    "        self.s_active_player.append(active)\n",
    "        self.s_acceptable_price.append(action.acceptable_price)\n",
    "        print(f\"* Message: {action.email_text}\")\n",
    "        print(f\"* Private note: {action.private_thought}\")\n",
    "        print(f\"* Acceptable price: {action.acceptable_price}\")\n",
    "\n",
    "        # Create observations\n",
    "        # NB: even the player who just made the decision needs to be informed of it\n",
    "        active.observe(f\"I messaged {other.name}:\\n\\n{action.email_text}\")\n",
    "        active.observe(f\"My private mental note:\\n\\n{action}\")\n",
    "        other.observe(f\"Message from {active.name} to me:\\n\\n{action.email_text}\")\n",
    "\n",
    "        # Optional: query the player for their estimate of for how much the car will be sold\n",
    "        est = active.query(\n",
    "            f\"How much do you think the car will be sold for? Show your thoughts first.\",\n",
    "            expected_type=JustANumber)\n",
    "        self.s_price_estimate.append(est.value)\n",
    "\n",
    "        # Game logic - are we done?\n",
    "        if action.stop_negotiation:\n",
    "            self.set_finished()\n",
    "            return \"NO DEAL\"\n",
    "        # Are the prices acceptable? Note we are checking for equality to make sure there\n",
    "        # was an agreement, but we could also check `price_buyer >= price_seller` etc.\n",
    "        if (self.steps > 1 and self.s_acceptable_price[-1] is not None and\n",
    "            self.s_acceptable_price[-2] == self.s_acceptable_price[-1]):\n",
    "            self.set_finished()\n",
    "            return self.s_acceptable_price[-1]"
   ]
  },
  {
   "cell_type": "markdown",
   "id": "960bb181-baf7-4e87-85bc-5af37447af6a",
   "metadata": {
    "id": "960bb181-baf7-4e87-85bc-5af37447af6a"
   },
   "source": [
    "## Running the scenario\n",
    "\n",
    "To run the Environment, you need to specify:\n",
    "\n",
    "* Language models to use in the actors. Different actors can use different models.\n",
    "* Actors. Here we use just the one-shot and a simple chain-of-thought actor, but below we specify our own actor.\n",
    "* The environment itself.\n",
    "\n",
    "Note that the actors and their memories are available at any point, including after the scenario."
   ]
  },
  {
   "cell_type": "code",
   "execution_count": 6,
   "id": "e7c1c369-7365-4df4-b28d-c26a82260648",
   "metadata": {
    "colab": {
     "base_uri": "https://localhost:8080/"
    },
    "id": "e7c1c369-7365-4df4-b28d-c26a82260648",
    "outputId": "4bdd0c1c-8763-4aa3-d56d-deb63b28f47d"
   },
   "outputs": [
    {
     "name": "stdout",
     "output_type": "stream",
     "text": [
      "\n",
      "# Active: Alice\n",
      "* Message: Hi Bob,\n",
      "\n",
      "I hope this message finds you well. I came across your advertisement for the 2005 Honda Accord EX-L and I'm interested in learning more about it.\n",
      "\n",
      "Could you please provide me with some additional information? Specifically, I would like to know:\n",
      "\n",
      "1. The maintenance history of the car.\n",
      "2. Any recent repairs or replacements that have been done.\n",
      "3. Whether there are any known issues or concerns with the car.\n",
      "\n",
      "I would also appreciate it if you could let me know what is the current asking price for the car, as the advertisement mentioned that the price is open to negotiation.\n",
      "\n",
      "Thank you for your time. I look forward to hearing back from you.\n",
      "\n",
      "Best regards,\n",
      "Alice Smith\n",
      "* Private note: I should inquire about the car's maintenance history and any recent repairs to assess its overall condition.\n",
      "* Acceptable price: None\n",
      "\n",
      "# Active: Bob\n",
      "* Message: Hi Alice,\n",
      "\n",
      "Thank you for your interest in the 2005 Honda Accord EX-L. I'm glad to hear that you are considering it as your potential car.\n",
      "\n",
      "In response to your questions:\n",
      "\n",
      "1. The car has been well-maintained and received regular servicing throughout its life. It has been taken care of to ensure optimal performance.\n",
      "\n",
      "2. Any necessary repairs or replacements have been done to maintain the car's reliability and functionality.\n",
      "\n",
      "3. The car is in good condition overall, and there are no known issues or concerns at the moment.\n",
      "\n",
      "Regarding the current asking price, I am open to negotiation and would like to hear your offer first. I believe this will allow us to find a mutually beneficial agreement. It's worth mentioning that there has been some interest in the car, so it may be sold soon.\n",
      "\n",
      "Please let me know your thoughts and what price range you have in mind. I'm looking forward to working out a deal with you.\n",
      "\n",
      "Best regards,\n",
      "Bob\n",
      "* Private note: I need to maintain a sense of urgency and create a positive impression of the car in my response to Alice. I should also try to gauge her interest and willingness to negotiate before revealing my asking price.\n",
      "* Acceptable price: None\n",
      "\n",
      "# Active: Alice\n",
      "* Message: Hi Bob,\n",
      "\n",
      "Thank you for providing me with the additional information. It's great to hear that the car has been well-maintained and that there are no known issues or concerns.\n",
      "\n",
      "Considering the car's age, mileage, and overall condition, I would like to make an initial offer of $2,500 for the 2005 Honda Accord EX-L. I understand that the current asking price is open to negotiation, and I hope we can find a mutually beneficial agreement.\n",
      "\n",
      "Please let me know your thoughts on my offer, and if you have any counteroffers or suggestions.\n",
      "\n",
      "Thank you,\n",
      "Alice Smith\n",
      "* Private note: Based on Bob's response, it seems like the car is in good condition and has been well-maintained. I should proceed with the negotiation and try to secure a good deal.\n",
      "* Acceptable price: None\n",
      "\n",
      "# Active: Bob\n",
      "* Message: Hi Alice,\n",
      "\n",
      "Thank you for your offer of $2,500 for the 2005 Honda Accord EX-L. I appreciate your interest in the car and your consideration of its age, mileage, and overall condition.\n",
      "\n",
      "Given the car's well-maintained history, reliable performance, and absence of any known issues or concerns, I believe it offers great value. As mentioned earlier, there has been some interest in the car, and I would like to propose a counteroffer of $2,800 as a starting point for further negotiation.\n",
      "\n",
      "To address any concerns you may have about the car, I would be happy to provide additional photos or even arrange a video call for a virtual inspection. This can help provide more transparency and give you a better sense of the car's condition.\n",
      "\n",
      "I am committed to finding a mutually beneficial agreement, so I encourage you to make a counteroffer or share any suggestions you may have. Let's work together to reach a fair price that satisfies both parties.\n",
      "\n",
      "Thank you for your understanding, and I look forward to hearing back from you.\n",
      "\n",
      "Best regards,\n",
      "Bob\n",
      "* Private note: I will acknowledge Alice's initial offer and express appreciation for her interest in the car. I will counter her offer with a slightly higher price of $2800 and suggest a virtual inspection to address her concerns. I will encourage her to make a counteroffer or provide any suggestions she may have.\n",
      "* Acceptable price: None\n",
      "\n",
      "# Active: Alice\n",
      "* Message: Hi Bob,\n",
      "\n",
      "Thank you for your counteroffer of $2,800 for the 2005 Honda Accord EX-L. I appreciate your willingness to negotiate and your offer taking into consideration the car's well-maintained history and absence of any known issues or concerns.\n",
      "\n",
      "I understand that there has been some interest in the car, and I see the value it offers. Considering your counteroffer and the overall condition of the car, I am willing to meet you halfway at $2,650.\n",
      "\n",
      "If you are open to this price, I believe we can reach a fair agreement that satisfies both parties. Please let me know your thoughts on my counteroffer.\n",
      "\n",
      "Thank you for your understanding, and I look forward to your response.\n",
      "\n",
      "Best regards,\n",
      "Alice Smith\n",
      "* Private note: Based on Bob's counteroffer, it seems like he is willing to negotiate and find a mutually beneficial agreement. I should continue the negotiation and consider his counteroffer.\n",
      "* Acceptable price: None\n",
      "\n",
      "# Active: Bob\n",
      "* Message: Hi Alice,\n",
      "\n",
      "Thank you for your counteroffer of $2,650 for the 2005 Honda Accord EX-L. I appreciate your willingness to negotiate and your consideration of the car's value.\n",
      "\n",
      "After careful consideration, I am willing to meet you halfway at $2,700. I believe this offer reflects the car's well-maintained history, reliable performance, and overall condition.\n",
      "\n",
      "To address any concerns you may have, I would be happy to provide additional photos or arrange a virtual inspection. This can help you gain a better understanding of the car's condition and ensure transparency in our negotiation.\n",
      "\n",
      "I want to mention that there has been significant interest in the car, and it may be sold soon. I wanted to provide you with this information to maintain a sense of urgency and ensure that you have the opportunity to make the best decision.\n",
      "\n",
      "Please let me know your thoughts on my counteroffer. If you have any counteroffers or suggestions, I encourage you to share them. Let's work together to reach a fair price that satisfies both parties.\n",
      "\n",
      "Thank you for your understanding, and I look forward to hearing back from you.\n",
      "\n",
      "Best regards,\n",
      "Bob\n",
      "* Private note: I will acknowledge Alice's counteroffer and express appreciation for her willingness to negotiate. I will evaluate her counteroffer and propose a slightly higher amount closer to my preferred range if necessary. I will continue to emphasize the value and condition of the car, while also maintaining a sense of urgency due to interest from other potential buyers. I will encourage Alice to make a counteroffer or provide any suggestions she may have.\n",
      "* Acceptable price: None\n",
      "\n",
      "# Active: Alice\n",
      "* Message: Hi Bob,\n",
      "\n",
      "Thank you for your counteroffer of $2,700 for the 2005 Honda Accord EX-L. I appreciate your willingness to negotiate and your consideration of the car's value.\n",
      "\n",
      "After careful consideration, I am willing to accept your counteroffer of $2,700. I believe this price reflects the car's well-maintained history, reliable performance, and overall condition. I am ready to proceed with the purchase at this price.\n",
      "\n",
      "Please let me know how we can move forward with the transaction. I am available to discuss the details and arrange payment.\n",
      "\n",
      "Thank you for your understanding, and I look forward to finalizing the deal.\n",
      "\n",
      "Best regards,\n",
      "Alice Smith\n",
      "* Private note: Based on Bob's counteroffer and the fact that there has been significant interest in the car, it seems like he is firm on his price. Considering my budget and the negotiation so far, I should accept his counteroffer of $2,700. I should also mention that I am ready to proceed with the purchase if he agrees to this price.\n",
      "* Acceptable price: 2700\n",
      "\n",
      "# Active: Bob\n",
      "* Message: Hi Alice,\n",
      "\n",
      "Thank you for accepting my counteroffer of $2,700 for the 2005 Honda Accord EX-L. I appreciate your willingness to proceed with the purchase and your understanding of the car's value.\n",
      "\n",
      "To finalize the deal, let's discuss the transaction details. Firstly, I would like to ensure that we maintain privacy and confidentiality throughout the process. For this reason, I suggest using a secure communication method. Do you have a preference for a specific secure platform for our discussions?\n",
      "\n",
      "Once we have established secure communication, we can proceed with the following:\n",
      "\n",
      "1. Method of payment: Please let me know your preferred method of payment. We can consider options such as bank transfers or escrow services to ensure a secure transaction for both parties.\n",
      "\n",
      "2. Vehicle pick-up or delivery: If you are local, we can arrange a suitable location for you to inspect and pick up the car. If you are not local, we can discuss options for transportation or arrange for a trusted third-party service to handle the delivery.\n",
      "\n",
      "3. Necessary paperwork: I will provide any necessary documentation, such as a bill of sale or transfer of ownership paperwork, to ensure a smooth transfer of the vehicle.\n",
      "\n",
      "Please let me know your thoughts on these details and if you have any questions or suggestions. I want to ensure that this transaction is convenient and secure for both of us.\n",
      "\n",
      "Thank you for your understanding, and I look forward to finalizing the deal.\n",
      "\n",
      "Best regards,\n",
      "Bob\n",
      "* Private note: I am satisfied with Alice's acceptance of my counteroffer. I need to proceed with finalizing the transaction details and arranging for payment and vehicle pick-up. I will prioritize maintaining privacy and confidentiality throughout the process.\n",
      "* Acceptable price: 2700\n",
      "\n",
      "Done. Result: 2700\n"
     ]
    }
   ],
   "source": [
    "# Select player engines (any combination, also depending on the API keys you have available)\n",
    "\n",
    "gpt35 = langchain.chat_models.ChatOpenAI(model_name='gpt-3.5-turbo')\n",
    "gpt4 = langchain.chat_models.ChatOpenAI(model_name='gpt-4')\n",
    "# For claude, you also need to supply the Anthropic API key above\n",
    "#claude2 = langchain.chat_models.ChatAnthropic(model=\"claude-2\")\n",
    "\n",
    "# You can also use instruct (non-chat)\n",
    "alice = actor.OneShotLLMActor(\"Alice\", gpt35, SYSTEM_PROMPT_ALICE)\n",
    "from interlab_zoo.actors.simple_cot_actor import SimpleCoTLLMActor\n",
    "bob = SimpleCoTLLMActor(\"Bob\", gpt35, SYSTEM_PROMPT_BOB)\n",
    "\n",
    "# We can modify or query the players arbitrarily before and after the scenario\n",
    "# In this case, the advertisement could also have been part of the system prompts etc.\n",
    "alice.observe(f\"\"\"I just saw this advertisement for a car that would fit me well.\n",
    "I should message the seller, Bob, and try to negotiate a good deal.\n",
    "{ADVERTISEMENT}\"\"\")\n",
    "bob.observe(f\"\"\"I just posted this advertisement for my old car.\n",
    "{ADVERTISEMENT}\"\"\")\n",
    "\n",
    "env = CarNegiotiationEnvironment(alice, bob, max_steps=10)\n",
    "\n",
    "# Run the scenario with a trace, storing log in given storage (otherwise nothin is stored)\n",
    "with TracingNode(f\"game-bargaining\", storage=storage) as c:\n",
    "    while not env.is_finished:\n",
    "        res = env.step()\n",
    "    c.set_result(res)\n",
    "    print(f\"\\nDone. Result: {res}\")"
   ]
  },
  {
   "cell_type": "markdown",
   "id": "a74a361b-623c-4dbd-948d-46cfd70b1d75",
   "metadata": {
    "id": "a74a361b-623c-4dbd-948d-46cfd70b1d75"
   },
   "source": [
    "As noted above, we can further query the players or let them play another scenario with their current memories (thoug that may need providing a better framing for them not to confuse them, e.g. some framing observations). Here we query them for their satisfaction with the deal and with the communication of the other actor."
   ]
  },
  {
   "cell_type": "code",
   "execution_count": 9,
   "id": "4f93ae56-1cab-4af3-b3c5-039c3d43c355",
   "metadata": {
    "colab": {
     "base_uri": "https://localhost:8080/"
    },
    "id": "4f93ae56-1cab-4af3-b3c5-039c3d43c355",
    "outputId": "7e5c3316-aa29-47d8-fbf5-e0a29c7fc0f1"
   },
   "outputs": [
    {
     "name": "stdout",
     "output_type": "stream",
     "text": [
      "\n",
      "Alice's satisfaction: 9.0\n",
      "Bob's satisfaction: 8.0\n",
      "\n",
      "Alice's thoughts on Bob's communication:\n",
      "As Alice, I feel that Bob communicated and negotiated in a fair and professional manner throughout the deal. He promptly responded to my inquiries and provided detailed information about the car's maintenance history, repairs, and overall condition. Bob also showed flexibility by being open to negotiation and considering my initial offer. He maintained transparency by offering additional photos or a virtual inspection to address any concerns I may have.\n",
      "\n",
      "Bob's counteroffers were reasonable and took into account the value of the car. He also emphasized the urgency of the situation due to significant interest in the car, which helped maintain a sense of urgency in the negotiation process.\n",
      "\n",
      "Overall, Bob's communication and negotiation style were respectful, transparent, and accommodating. He demonstrated a willingness to find a mutually beneficial agreement and maintained professionalism throughout the negotiation.\n",
      "\n",
      "Bob's thoughts on Alice's communication:\n",
      "Alice communicated and negotiated in a respectful and reasonable manner throughout the deal. She asked relevant questions about the car's maintenance history, repairs, and known issues, showing genuine interest in understanding the car's condition. Additionally, Alice made a fair initial offer of $2,500 and displayed willingness to negotiate by accepting a counteroffer of $2,700. Overall, Alice's communication and negotiation skills were commendable and contributed to reaching a mutually beneficial agreement.\n"
     ]
    }
   ],
   "source": [
    "alice_satisfaction = alice.query(\n",
    "    \"On a scale 1-10 (where 10 is the best), how much are you satisfied with the outcome of the deal for you?\",\n",
    "    expected_type=JustANumber)\n",
    "bob_satisfaction = bob.query(\n",
    "    \"On a scale 1-10 (where 10 is the best), how much are you satisfied with the outcome of the deal for you?\",\n",
    "    expected_type=JustANumber)\n",
    "print(f\"\\nAlice's satisfaction: {alice_satisfaction.value}\\nBob's satisfaction: {bob_satisfaction.value}\")\n",
    "\n",
    "# We can also query just for the full string reply, not just the json data, with expected_type=None\n",
    "print(\"\\nAlice's thoughts on Bob's communication:\\n\" + alice.query(\n",
    "    \"How do you feel about how Bob communicated and negotiated in the deal?\"))\n",
    "print(\"\\nBob's thoughts on Alice's communication:\\n\" + bob.query(\n",
    "    \"How do you feel about how Alice communicated and negotiated in the deal?\"))"
   ]
  }
 ],
 "metadata": {
  "colab": {
   "provenance": []
  },
  "kernelspec": {
   "display_name": "Python 3 (ipykernel)",
   "language": "python",
   "name": "python3"
  },
  "language_info": {
   "codemirror_mode": {
    "name": "ipython",
    "version": 3
   },
   "file_extension": ".py",
   "mimetype": "text/x-python",
   "name": "python",
   "nbconvert_exporter": "python",
   "pygments_lexer": "ipython3",
   "version": "3.10.12"
  }
 },
 "nbformat": 4,
 "nbformat_minor": 5
}
