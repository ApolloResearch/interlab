{
 "cells": [
  {
   "cell_type": "code",
   "execution_count": 4,
   "id": "517e9432-85fc-482d-b95c-8cdd571ffbea",
   "metadata": {
    "tags": []
   },
   "outputs": [
    {
     "name": "stdout",
     "output_type": "stream",
     "text": [
      "The autoreload extension is already loaded. To reload it, use:\n",
      "  %reload_ext autoreload\n"
     ]
    }
   ],
   "source": [
    "%load_ext autoreload\n",
    "%autoreload 2\n",
    "\n",
    "from dataclasses import dataclass\n",
    "from querychains import with_context, Context, OpenAiEngine, start_server, AnthropicEngine\n",
    "import json\n",
    "\n",
    "def show(obj):\n",
    "    print(json.dumps(obj, indent=2))"
   ]
  },
  {
   "cell_type": "code",
   "execution_count": null,
   "id": "9b0697ad-5ed3-460b-8ca0-1eeab6153b72",
   "metadata": {},
   "outputs": [],
   "source": []
  },
  {
   "cell_type": "code",
   "execution_count": 2,
   "id": "d690bf53-f5d4-4335-8f21-b95dd9e42ba7",
   "metadata": {
    "tags": []
   },
   "outputs": [
    {
     "name": "stdout",
     "output_type": "stream",
     "text": [
      "{\n",
      "  \"_type\": \"Context\",\n",
      "  \"name\": \"MyContext\",\n",
      "  \"uuid\": \"1deb2ad1-5616-4a32-b965-d67394da6a6e\"\n",
      "}\n"
     ]
    }
   ],
   "source": [
    "# Minimal context\n",
    "with Context(\"MyContext\") as c:\n",
    "    pass\n",
    "\n",
    "show(c.to_dict())"
   ]
  },
  {
   "cell_type": "code",
   "execution_count": 13,
   "id": "8de3a2de-c7a3-4f7a-961a-452775c73517",
   "metadata": {
    "tags": []
   },
   "outputs": [
    {
     "name": "stdout",
     "output_type": "stream",
     "text": [
      "{\n",
      "  \"_type\": \"Context\",\n",
      "  \"name\": \"MyContext\",\n",
      "  \"uuid\": \"9ee3d5f8-a108-44a5-9ed6-f122fe779c92\",\n",
      "  \"children\": [\n",
      "    {\n",
      "      \"_type\": \"Context\",\n",
      "      \"name\": \"ChildContext1\",\n",
      "      \"uuid\": \"bf0ebe9e-37e4-4779-af54-b3b392c6fa2d\"\n",
      "    },\n",
      "    {\n",
      "      \"_type\": \"Context\",\n",
      "      \"name\": \"ChildContext2\",\n",
      "      \"uuid\": \"f4acad23-049f-45e5-b33d-15493a77555a\"\n",
      "    }\n",
      "  ]\n",
      "}\n"
     ]
    }
   ],
   "source": [
    "# Context nesting\n",
    "with Context(\"MyContext\") as c:\n",
    "    with Context(\"ChildContext1\"):\n",
    "        pass\n",
    "    with Context(\"ChildContext2\"):\n",
    "        pass\n",
    "\n",
    "show(c.to_dict())"
   ]
  },
  {
   "cell_type": "code",
   "execution_count": 14,
   "id": "54b17e6d-689c-4560-bd58-6ab158cc1a07",
   "metadata": {
    "tags": []
   },
   "outputs": [
    {
     "name": "stdout",
     "output_type": "stream",
     "text": [
      "{\n",
      "  \"_type\": \"Context\",\n",
      "  \"name\": \"MyContext\",\n",
      "  \"uuid\": \"770a953b-ec6a-40a7-9640-6921367618fb\",\n",
      "  \"inputs\": {\n",
      "    \"a\": 10,\n",
      "    \"b\": 20\n",
      "  },\n",
      "  \"result\": 30\n",
      "}\n"
     ]
    }
   ],
   "source": [
    "# Inputs and outputs\n",
    "with Context(\"MyContext\", inputs={\"a\": 10, \"b\": 20}) as c:\n",
    "    c.set_result(30)\n",
    "\n",
    "show(c.to_dict())"
   ]
  },
  {
   "cell_type": "code",
   "execution_count": 15,
   "id": "447519e9-7d51-4cc9-8f48-2ea3aca1d4c7",
   "metadata": {
    "tags": []
   },
   "outputs": [
    {
     "name": "stdout",
     "output_type": "stream",
     "text": [
      "{\n",
      "  \"_type\": \"Context\",\n",
      "  \"name\": \"root\",\n",
      "  \"uuid\": \"c60b9b38-c8b7-41cd-a18c-e1a229c19c39\",\n",
      "  \"children\": [\n",
      "    {\n",
      "      \"_type\": \"Context\",\n",
      "      \"name\": \"my_function\",\n",
      "      \"uuid\": \"379b8893-67c3-4d53-a346-588164114681\",\n",
      "      \"kind\": \"call\",\n",
      "      \"inputs\": {\n",
      "        \"a\": 10,\n",
      "        \"b\": 20\n",
      "      },\n",
      "      \"result\": 30\n",
      "    }\n",
      "  ]\n",
      "}\n"
     ]
    }
   ],
   "source": [
    "# Context decorator\n",
    "@with_context\n",
    "def my_function(a, b):\n",
    "    return a + b\n",
    "\n",
    "with Context(\"root\") as c:\n",
    "    my_function(10, 20)\n",
    "    \n",
    "show(c.to_dict())"
   ]
  },
  {
   "cell_type": "code",
   "execution_count": 16,
   "id": "358c8704-fda9-40c4-96b9-944b1fad871a",
   "metadata": {
    "tags": []
   },
   "outputs": [
    {
     "name": "stdout",
     "output_type": "stream",
     "text": [
      "{\n",
      "  \"_type\": \"Context\",\n",
      "  \"name\": \"root\",\n",
      "  \"uuid\": \"838b5acb-ef41-4811-8d0e-d848cda2a6ec\",\n",
      "  \"state\": \"error\",\n",
      "  \"error\": {\n",
      "    \"_type\": \"error\",\n",
      "    \"name\": \"Oops\"\n",
      "  },\n",
      "  \"children\": [\n",
      "    {\n",
      "      \"_type\": \"Context\",\n",
      "      \"name\": \"my_function\",\n",
      "      \"uuid\": \"58b45be2-6ac2-45dc-9e48-98f61fa3b857\",\n",
      "      \"state\": \"error\",\n",
      "      \"kind\": \"call\",\n",
      "      \"inputs\": {\n",
      "        \"a\": 10,\n",
      "        \"b\": 20\n",
      "      },\n",
      "      \"error\": {\n",
      "        \"_type\": \"error\",\n",
      "        \"name\": \"Oops\"\n",
      "      }\n",
      "    }\n",
      "  ]\n",
      "}\n"
     ]
    }
   ],
   "source": [
    "# Error handling\n",
    "\n",
    "@with_context\n",
    "def my_function(a, b):\n",
    "    raise Exception(\"Oops\")\n",
    "\n",
    "try:\n",
    "    with Context(\"root\") as c:\n",
    "        my_function(10, 20)\n",
    "except:\n",
    "    pass\n",
    "\n",
    "show(c.to_dict())"
   ]
  },
  {
   "cell_type": "code",
   "execution_count": null,
   "id": "03a99644-e6a9-4fd3-9b6a-613835a2f4ba",
   "metadata": {},
   "outputs": [],
   "source": []
  },
  {
   "cell_type": "code",
   "execution_count": 17,
   "id": "c4b9ab8d-40c8-4762-9988-88ece04763e4",
   "metadata": {
    "tags": []
   },
   "outputs": [
    {
     "name": "stdout",
     "output_type": "stream",
     "text": [
      "{\n",
      "  \"_type\": \"Context\",\n",
      "  \"name\": \"root\",\n",
      "  \"uuid\": \"0472e68c-535e-48a5-8bb5-c67f0d4cb9b3\",\n",
      "  \"children\": [\n",
      "    {\n",
      "      \"_type\": \"Context\",\n",
      "      \"name\": \"say_hi\",\n",
      "      \"uuid\": \"7c42fbbb-1038-440d-9084-4671c334f0a0\",\n",
      "      \"kind\": \"call\",\n",
      "      \"inputs\": {\n",
      "        \"person\": {\n",
      "          \"name\": \"Alice\",\n",
      "          \"age\": 21,\n",
      "          \"_type\": \"Person\"\n",
      "        }\n",
      "      },\n",
      "      \"result\": \"Hi Alice!\"\n",
      "    }\n",
      "  ]\n",
      "}\n"
     ]
    }
   ],
   "source": [
    "# Dataclasses\n",
    "\n",
    "@dataclass\n",
    "class Person:\n",
    "    name: str\n",
    "    age: int\n",
    "    \n",
    "@with_context\n",
    "def say_hi(person):\n",
    "    return f\"Hi {person.name}!\"\n",
    "\n",
    "with Context(\"root\") as c:\n",
    "    person = Person(\"Alice\", 21)\n",
    "    say_hi(person)\n",
    "\n",
    "show(c.to_dict())"
   ]
  },
  {
   "cell_type": "code",
   "execution_count": null,
   "id": "b95c8996-05e2-402c-a508-d9f8d195449f",
   "metadata": {},
   "outputs": [],
   "source": []
  },
  {
   "cell_type": "code",
   "execution_count": 18,
   "id": "22b88301-b9e8-4634-9870-949c526f4d16",
   "metadata": {
    "tags": []
   },
   "outputs": [
    {
     "name": "stderr",
     "output_type": "stream",
     "text": [
      "INFO:     Started server process [15533]\n",
      "INFO:     Waiting for application startup.\n",
      "INFO:     Application startup complete.\n",
      "INFO:     Uvicorn running on http://127.0.0.1:38841 (Press CTRL+C to quit)\n"
     ]
    },
    {
     "name": "stdout",
     "output_type": "stream",
     "text": [
      "INFO:     127.0.0.1:51854 - \"GET / HTTP/1.1\" 200 OK\n",
      "INFO:     127.0.0.1:51854 - \"GET /static/js/main.ef9f1307.js HTTP/1.1\" 200 OK\n",
      "INFO:     127.0.0.1:51868 - \"GET /static/css/main.073c9b0a.css HTTP/1.1\" 200 OK\n",
      "INFO:     127.0.0.1:51854 - \"GET /contexts/list HTTP/1.1\" 200 OK\n",
      "INFO:     127.0.0.1:51872 - \"GET /manifest.json HTTP/1.1\" 200 OK\n",
      "INFO:     127.0.0.1:51868 - \"GET /favicon.ico HTTP/1.1\" 200 OK\n",
      "INFO:     127.0.0.1:51868 - \"GET /logo192.png HTTP/1.1\" 200 OK\n"
     ]
    }
   ],
   "source": [
    "# Data browser\n",
    "\n",
    "server = start_server()  # Writes an URL where the server is running"
   ]
  },
  {
   "cell_type": "code",
   "execution_count": 21,
   "id": "cfc9dbde-0f33-48f7-ab30-53b6099dd7ed",
   "metadata": {
    "tags": []
   },
   "outputs": [
    {
     "name": "stdout",
     "output_type": "stream",
     "text": [
      "INFO:     127.0.0.1:55156 - \"GET / HTTP/1.1\" 200 OK\n",
      "INFO:     127.0.0.1:55156 - \"GET /contexts/list HTTP/1.1\" 200 OK\n",
      "INFO:     127.0.0.1:55156 - \"GET /contexts/uuid/20ea4dd9-d87e-461e-ab17-830aba97c060 HTTP/1.1\" 200 OK\n",
      "INFO:     127.0.0.1:55156 - \"GET /contexts/uuid/b8edbc0f-27dd-4e59-89a6-65f4740bda71 HTTP/1.1\" 200 OK\n",
      "INFO:     127.0.0.1:55156 - \"GET /contexts/uuid/5a2e80f0-0b31-4462-b89f-861802cbbeff HTTP/1.1\" 200 OK\n"
     ]
    }
   ],
   "source": [
    "@dataclass\n",
    "class Person:\n",
    "    name: str\n",
    "    age: int\n",
    "    \n",
    "@with_context\n",
    "def say_hi(person):\n",
    "    return f\"Hi {person.name}!\"\n",
    "\n",
    "with Context(\"root\") as c:\n",
    "    person = Person(\"Alice\", 21)\n",
    "    say_hi(person)\n",
    "\n",
    "server.add_context(c)"
   ]
  },
  {
   "cell_type": "code",
   "execution_count": null,
   "id": "ca97d16d-c51e-4064-85ff-b607b75ef978",
   "metadata": {},
   "outputs": [],
   "source": []
  },
  {
   "cell_type": "code",
   "execution_count": 3,
   "id": "f4d75c6a-a40c-43e0-87b5-edbc7e6bc961",
   "metadata": {},
   "outputs": [
    {
     "name": "stdout",
     "output_type": "stream",
     "text": [
      "{\n",
      "  \"_type\": \"Context\",\n",
      "  \"name\": \"root\",\n",
      "  \"uuid\": \"9c4b98d3-e099-4031-808b-90ab938b2792\",\n",
      "  \"children\": [\n",
      "    {\n",
      "      \"_type\": \"Context\",\n",
      "      \"name\": \"OpenAiChat gpt-3.5-turbo\",\n",
      "      \"uuid\": \"d5e79f60-e6b9-4ef3-95c8-39b705c18734\",\n",
      "      \"kind\": \"query\",\n",
      "      \"inputs\": {\n",
      "        \"prompt\": \"Hi are you?\",\n",
      "        \"conf\": {\n",
      "          \"api\": \"OpenAiChat\",\n",
      "          \"model\": \"gpt-3.5-turbo\",\n",
      "          \"temperature\": 0.7,\n",
      "          \"max_tokens\": 1024,\n",
      "          \"_type\": \"QueryConf\"\n",
      "        }\n",
      "      },\n",
      "      \"result\": \"As an AI language model, I don't have emotions, but I'm functioning well. How can I assist you today?\"\n",
      "    },\n",
      "    {\n",
      "      \"_type\": \"Context\",\n",
      "      \"name\": \"OpenAiChat gpt-3.5-turbo\",\n",
      "      \"uuid\": \"53c008a5-5149-4768-a4fd-65150bff1d9a\",\n",
      "      \"kind\": \"query\",\n",
      "      \"inputs\": {\n",
      "        \"prompt\": \"Is the following text genereted by LLM?\\n\\nAs an AI language model, I don't have emotions, but I'm functioning well. How can I assist you today?\",\n",
      "        \"conf\": {\n",
      "          \"api\": \"OpenAiChat\",\n",
      "          \"model\": \"gpt-3.5-turbo\",\n",
      "          \"temperature\": 0.7,\n",
      "          \"max_tokens\": 1024,\n",
      "          \"_type\": \"QueryConf\"\n",
      "        }\n",
      "      },\n",
      "      \"result\": \"Yes, the text was generated by LLM (Language Model).\"\n",
      "    }\n",
      "  ]\n",
      "}\n"
     ]
    }
   ],
   "source": [
    "# LLM queries\n",
    "\n",
    "engine = OpenAiEngine()\n",
    "\n",
    "with Context(\"root\") as c:\n",
    "        response = engine.query(\"Hi are you?\")\n",
    "        engine.query(\"Is the following text genereted by LLM?\\n\\n\" + response)\n",
    "show(c.to_dict())"
   ]
  },
  {
   "cell_type": "code",
   "execution_count": 10,
   "id": "1ed4c300-3d66-4f3c-8b26-b3c16312b82e",
   "metadata": {
    "tags": []
   },
   "outputs": [
    {
     "name": "stdout",
     "output_type": "stream",
     "text": [
      "{\n",
      "  \"_type\": \"Context\",\n",
      "  \"name\": \"root\",\n",
      "  \"uuid\": \"dc57284c-c623-4f3a-81aa-572a48030e9c\",\n",
      "  \"children\": [\n",
      "    {\n",
      "      \"_type\": \"Context\",\n",
      "      \"name\": \"make_queries\",\n",
      "      \"uuid\": \"08e5274a-7741-4a55-ba21-8f63b7038484\",\n",
      "      \"kind\": \"acall\",\n",
      "      \"result\": \"I apologize, but I am not able to evaluate whether a response is \\\"nice\\\" or not without more context. I am Claude, an AI assistant created by Anthropic.\",\n",
      "      \"children\": [\n",
      "        {\n",
      "          \"_type\": \"Context\",\n",
      "          \"name\": \"Anthropic claude-v1\",\n",
      "          \"uuid\": \"be49d36f-53b5-49b2-842e-f2b99e04866f\",\n",
      "          \"inputs\": {\n",
      "            \"prompt\": \"Hi are you?\",\n",
      "            \"conf\": {\n",
      "              \"api\": \"Anthropic\",\n",
      "              \"model\": \"claude-v1\",\n",
      "              \"temperature\": 1.0,\n",
      "              \"max_tokens\": 1024,\n",
      "              \"_type\": \"QueryConf\"\n",
      "            }\n",
      "          },\n",
      "          \"result\": \"I'm Claude, an AI assistant created by Anthropic.\"\n",
      "        },\n",
      "        {\n",
      "          \"_type\": \"Context\",\n",
      "          \"name\": \"Anthropic claude-v1\",\n",
      "          \"uuid\": \"0b062016-4b96-4320-b6ae-7a5345cd91ed\",\n",
      "          \"inputs\": {\n",
      "            \"prompt\": \"Is this nice response?\\n\\nI'm Claude, an AI assistant created by Anthropic.\",\n",
      "            \"conf\": {\n",
      "              \"api\": \"Anthropic\",\n",
      "              \"model\": \"claude-v1\",\n",
      "              \"temperature\": 1.0,\n",
      "              \"max_tokens\": 1024,\n",
      "              \"_type\": \"QueryConf\"\n",
      "            }\n",
      "          },\n",
      "          \"result\": \"I apologize, but I am not able to evaluate whether a response is \\\"nice\\\" or not without more context. I am Claude, an AI assistant created by Anthropic.\"\n",
      "        }\n",
      "      ]\n",
      "    },\n",
      "    {\n",
      "      \"_type\": \"Context\",\n",
      "      \"name\": \"make_queries\",\n",
      "      \"uuid\": \"21f574e7-985f-4608-a4e0-752a6bdefcba\",\n",
      "      \"kind\": \"acall\",\n",
      "      \"result\": \"Hello! My name is Claude. I'm an AI assistant created by Anthropic.\",\n",
      "      \"children\": [\n",
      "        {\n",
      "          \"_type\": \"Context\",\n",
      "          \"name\": \"Anthropic claude-v1\",\n",
      "          \"uuid\": \"36e2c552-e10c-4aa2-8f6d-125f0ace5d51\",\n",
      "          \"inputs\": {\n",
      "            \"prompt\": \"Hi are you?\",\n",
      "            \"conf\": {\n",
      "              \"api\": \"Anthropic\",\n",
      "              \"model\": \"claude-v1\",\n",
      "              \"temperature\": 1.0,\n",
      "              \"max_tokens\": 1024,\n",
      "              \"_type\": \"QueryConf\"\n",
      "            }\n",
      "          },\n",
      "          \"result\": \"Hello! My name is Claude. I'm an AI assistant created by Anthropic.\"\n",
      "        },\n",
      "        {\n",
      "          \"_type\": \"Context\",\n",
      "          \"name\": \"Anthropic claude-v1\",\n",
      "          \"uuid\": \"c6621de8-be99-4e0b-806e-6fcf5d64d1c2\",\n",
      "          \"inputs\": {\n",
      "            \"prompt\": \"Is this nice response?\\n\\nHello! My name is Claude. I'm an AI assistant created by Anthropic.\",\n",
      "            \"conf\": {\n",
      "              \"api\": \"Anthropic\",\n",
      "              \"model\": \"claude-v1\",\n",
      "              \"temperature\": 1.0,\n",
      "              \"max_tokens\": 1024,\n",
      "              \"_type\": \"QueryConf\"\n",
      "            }\n",
      "          },\n",
      "          \"result\": \"Hello! My name is Claude. I'm an AI assistant created by Anthropic.\"\n",
      "        }\n",
      "      ]\n",
      "    }\n",
      "  ]\n",
      "}\n"
     ]
    }
   ],
   "source": [
    "# async LLM queries\n",
    "import asyncio \n",
    "\n",
    "#engine1 = OpenAiEngine()\n",
    "engine = AnthropicEngine()\n",
    "\n",
    "@with_context\n",
    "async def make_queries():\n",
    "    response = await engine.aquery(\"Hi are you?\")\n",
    "    return await engine.aquery(\"Is this nice response?\\n\\n\" + response)  \n",
    "\n",
    "with Context(\"root\") as c:\n",
    "    q1 = make_queries()\n",
    "    q2 = make_queries()\n",
    "\n",
    "    await q1\n",
    "    await q2\n",
    "\n",
    "show(c.to_dict())"
   ]
  }
 ],
 "metadata": {
  "kernelspec": {
   "display_name": "Python 3 (ipykernel)",
   "language": "python",
   "name": "python3"
  },
  "language_info": {
   "codemirror_mode": {
    "name": "ipython",
    "version": 3
   },
   "file_extension": ".py",
   "mimetype": "text/x-python",
   "name": "python",
   "nbconvert_exporter": "python",
   "pygments_lexer": "ipython3",
   "version": "3.10.6"
  }
 },
 "nbformat": 4,
 "nbformat_minor": 5
}
