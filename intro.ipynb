{
 "cells": [
  {
   "cell_type": "code",
   "execution_count": 2,
   "id": "517e9432-85fc-482d-b95c-8cdd571ffbea",
   "metadata": {
    "tags": []
   },
   "outputs": [],
   "source": [
    "%load_ext autoreload\n",
    "%autoreload 2\n",
    "\n",
    "from dataclasses import dataclass\n",
    "from querychains import with_context, Context, OpenAiChatEngine, start_server, AnthropicEngine, QueryEngine\n",
    "import json\n",
    "\n",
    "def show(obj):\n",
    "    print(json.dumps(obj, indent=2))"
   ]
  },
  {
   "cell_type": "code",
   "execution_count": null,
   "id": "9b0697ad-5ed3-460b-8ca0-1eeab6153b72",
   "metadata": {},
   "outputs": [],
   "source": []
  },
  {
   "cell_type": "code",
   "execution_count": 3,
   "id": "d690bf53-f5d4-4335-8f21-b95dd9e42ba7",
   "metadata": {
    "tags": []
   },
   "outputs": [
    {
     "name": "stdout",
     "output_type": "stream",
     "text": [
      "{\n",
      "  \"_type\": \"Context\",\n",
      "  \"name\": \"MyContext\",\n",
      "  \"uid\": \"2023-06-23T10:29:40-MyContext-ogwxvb\",\n",
      "  \"start_time\": \"2023-06-23T10:29:40.621858\",\n",
      "  \"end_time\": \"2023-06-23T10:29:40.621891\"\n",
      "}\n"
     ]
    }
   ],
   "source": [
    "# Minimal context\n",
    "with Context(\"MyContext\") as c:\n",
    "    pass\n",
    "\n",
    "show(c.to_dict())"
   ]
  },
  {
   "cell_type": "code",
   "execution_count": 3,
   "id": "8de3a2de-c7a3-4f7a-961a-452775c73517",
   "metadata": {
    "tags": []
   },
   "outputs": [
    {
     "name": "stdout",
     "output_type": "stream",
     "text": [
      "{\n",
      "  \"_type\": \"Context\",\n",
      "  \"name\": \"MyContext\",\n",
      "  \"uuid\": \"2d712c36-64c4-4008-8cbc-bcd6860c78da\",\n",
      "  \"children\": [\n",
      "    {\n",
      "      \"_type\": \"Context\",\n",
      "      \"name\": \"ChildContext1\",\n",
      "      \"uuid\": \"0e6533ac-b0eb-43cf-839e-594e895f8c4a\",\n",
      "      \"start_time\": \"2023-06-21T15:19:41.875022\",\n",
      "      \"end_time\": \"2023-06-21T15:19:41.875033\"\n",
      "    },\n",
      "    {\n",
      "      \"_type\": \"Context\",\n",
      "      \"name\": \"ChildContext2\",\n",
      "      \"uuid\": \"686298ff-9494-4242-9a02-6ac3501e8ed2\",\n",
      "      \"start_time\": \"2023-06-21T15:19:41.875045\",\n",
      "      \"end_time\": \"2023-06-21T15:19:41.875052\"\n",
      "    }\n",
      "  ],\n",
      "  \"start_time\": \"2023-06-21T15:19:41.874994\",\n",
      "  \"end_time\": \"2023-06-21T15:19:41.875055\"\n",
      "}\n"
     ]
    }
   ],
   "source": [
    "# Context nesting\n",
    "with Context(\"MyContext\") as c:\n",
    "    with Context(\"ChildContext1\"):\n",
    "        pass\n",
    "    with Context(\"ChildContext2\"):\n",
    "        pass\n",
    "\n",
    "show(c.to_dict())"
   ]
  },
  {
   "cell_type": "code",
   "execution_count": 4,
   "id": "54b17e6d-689c-4560-bd58-6ab158cc1a07",
   "metadata": {
    "tags": []
   },
   "outputs": [
    {
     "name": "stdout",
     "output_type": "stream",
     "text": [
      "{\n",
      "  \"_type\": \"Context\",\n",
      "  \"name\": \"MyContext\",\n",
      "  \"uid\": \"2023-06-23T10:30:04-MyContext-KxP1P0\",\n",
      "  \"inputs\": {\n",
      "    \"a\": 10,\n",
      "    \"b\": 20\n",
      "  },\n",
      "  \"result\": 30,\n",
      "  \"start_time\": \"2023-06-23T10:30:04.909438\",\n",
      "  \"end_time\": \"2023-06-23T10:30:04.909461\"\n",
      "}\n"
     ]
    }
   ],
   "source": [
    "# Inputs and outputs\n",
    "with Context(\"MyContext\", inputs={\"a\": 10, \"b\": 20}) as c:\n",
    "    c.set_result(30)\n",
    "\n",
    "show(c.to_dict())"
   ]
  },
  {
   "cell_type": "code",
   "execution_count": 5,
   "id": "447519e9-7d51-4cc9-8f48-2ea3aca1d4c7",
   "metadata": {
    "tags": []
   },
   "outputs": [
    {
     "name": "stdout",
     "output_type": "stream",
     "text": [
      "{\n",
      "  \"_type\": \"Context\",\n",
      "  \"name\": \"root\",\n",
      "  \"uid\": \"2023-06-23T10:30:10-root-MmZDm3\",\n",
      "  \"children\": [\n",
      "    {\n",
      "      \"_type\": \"Context\",\n",
      "      \"name\": \"my_function\",\n",
      "      \"uid\": \"2023-06-23T10:30:10-my_function-DaPZgE\",\n",
      "      \"kind\": \"call\",\n",
      "      \"inputs\": {\n",
      "        \"a\": 10,\n",
      "        \"b\": 20\n",
      "      },\n",
      "      \"result\": 30,\n",
      "      \"start_time\": \"2023-06-23T10:30:10.771345\",\n",
      "      \"end_time\": \"2023-06-23T10:30:10.771365\"\n",
      "    }\n",
      "  ],\n",
      "  \"start_time\": \"2023-06-23T10:30:10.771278\",\n",
      "  \"end_time\": \"2023-06-23T10:30:10.771372\"\n",
      "}\n"
     ]
    }
   ],
   "source": [
    "# Context decorator\n",
    "@with_context\n",
    "def my_function(a, b):\n",
    "    return a + b\n",
    "\n",
    "with Context(\"root\") as c:\n",
    "    my_function(10, 20)\n",
    "    \n",
    "show(c.to_dict())"
   ]
  },
  {
   "cell_type": "code",
   "execution_count": 6,
   "id": "358c8704-fda9-40c4-96b9-944b1fad871a",
   "metadata": {
    "tags": []
   },
   "outputs": [
    {
     "name": "stdout",
     "output_type": "stream",
     "text": [
      "{\n",
      "  \"_type\": \"Context\",\n",
      "  \"name\": \"root\",\n",
      "  \"uid\": \"2023-06-23T10:30:29-root-V4kM9X\",\n",
      "  \"state\": \"error\",\n",
      "  \"error\": {\n",
      "    \"_type\": \"error\",\n",
      "    \"name\": \"Oops\"\n",
      "  },\n",
      "  \"children\": [\n",
      "    {\n",
      "      \"_type\": \"Context\",\n",
      "      \"name\": \"my_function\",\n",
      "      \"uid\": \"2023-06-23T10:30:29-my_function-OIsjcp\",\n",
      "      \"state\": \"error\",\n",
      "      \"kind\": \"call\",\n",
      "      \"inputs\": {\n",
      "        \"a\": 10,\n",
      "        \"b\": 20\n",
      "      },\n",
      "      \"error\": {\n",
      "        \"_type\": \"error\",\n",
      "        \"name\": \"Oops\"\n",
      "      },\n",
      "      \"start_time\": \"2023-06-23T10:30:29.511410\",\n",
      "      \"end_time\": \"2023-06-23T10:30:29.511442\"\n",
      "    }\n",
      "  ],\n",
      "  \"start_time\": \"2023-06-23T10:30:29.511324\",\n",
      "  \"end_time\": \"2023-06-23T10:30:29.511451\"\n",
      "}\n"
     ]
    }
   ],
   "source": [
    "# Error handling\n",
    "\n",
    "@with_context\n",
    "def my_function(a, b):\n",
    "    raise Exception(\"Oops\")\n",
    "\n",
    "try:\n",
    "    with Context(\"root\") as c:\n",
    "        my_function(10, 20)\n",
    "except:\n",
    "    pass\n",
    "\n",
    "show(c.to_dict())"
   ]
  },
  {
   "cell_type": "code",
   "execution_count": null,
   "id": "03a99644-e6a9-4fd3-9b6a-613835a2f4ba",
   "metadata": {},
   "outputs": [],
   "source": []
  },
  {
   "cell_type": "code",
   "execution_count": 7,
   "id": "c4b9ab8d-40c8-4762-9988-88ece04763e4",
   "metadata": {
    "tags": []
   },
   "outputs": [
    {
     "name": "stdout",
     "output_type": "stream",
     "text": [
      "{\n",
      "  \"_type\": \"Context\",\n",
      "  \"name\": \"root\",\n",
      "  \"uid\": \"2023-06-23T10:30:48-root-yVes3H\",\n",
      "  \"children\": [\n",
      "    {\n",
      "      \"_type\": \"Context\",\n",
      "      \"name\": \"say_hi\",\n",
      "      \"uid\": \"2023-06-23T10:30:48-say_hi-uk8iKQ\",\n",
      "      \"kind\": \"call\",\n",
      "      \"inputs\": {\n",
      "        \"person\": {\n",
      "          \"name\": \"Alice\",\n",
      "          \"age\": 21,\n",
      "          \"_type\": \"Person\"\n",
      "        }\n",
      "      },\n",
      "      \"result\": \"Hi Alice!\",\n",
      "      \"start_time\": \"2023-06-23T10:30:48.932135\",\n",
      "      \"end_time\": \"2023-06-23T10:30:48.932175\"\n",
      "    }\n",
      "  ],\n",
      "  \"start_time\": \"2023-06-23T10:30:48.931991\",\n",
      "  \"end_time\": \"2023-06-23T10:30:48.932187\"\n",
      "}\n"
     ]
    }
   ],
   "source": [
    "# Dataclasses\n",
    "\n",
    "@dataclass\n",
    "class Person:\n",
    "    name: str\n",
    "    age: int\n",
    "    \n",
    "@with_context\n",
    "def say_hi(person):\n",
    "    return f\"Hi {person.name}!\"\n",
    "\n",
    "with Context(\"root\") as c:\n",
    "    person = Person(\"Alice\", 21)\n",
    "    say_hi(person)\n",
    "\n",
    "show(c.to_dict())"
   ]
  },
  {
   "cell_type": "code",
   "execution_count": null,
   "id": "b95c8996-05e2-402c-a508-d9f8d195449f",
   "metadata": {},
   "outputs": [],
   "source": []
  },
  {
   "cell_type": "code",
   "execution_count": 5,
   "id": "22b88301-b9e8-4634-9870-949c526f4d16",
   "metadata": {
    "tags": []
   },
   "outputs": [
    {
     "name": "stderr",
     "output_type": "stream",
     "text": [
      "INFO:     Started server process [5982]\n",
      "INFO:     Waiting for application startup.\n",
      "INFO:     Application startup complete.\n",
      "INFO:     Uvicorn running on http://127.0.0.1:5000 (Press CTRL+C to quit)\n"
     ]
    },
    {
     "name": "stdout",
     "output_type": "stream",
     "text": [
      "INFO:     127.0.0.1:57122 - \"GET /contexts/list HTTP/1.1\" 200 OK\n",
      "INFO:     127.0.0.1:57122 - \"GET /contexts/list HTTP/1.1\" 200 OK\n",
      "INFO:     127.0.0.1:57122 - \"GET /contexts/list HTTP/1.1\" 200 OK\n"
     ]
    }
   ],
   "source": [
    "# Data browser\n",
    "\n",
    "server = start_server(port=5000)  # Writes an URL where the server is running"
   ]
  },
  {
   "cell_type": "code",
   "execution_count": 7,
   "id": "cfc9dbde-0f33-48f7-ab30-53b6099dd7ed",
   "metadata": {
    "tags": []
   },
   "outputs": [
    {
     "name": "stdout",
     "output_type": "stream",
     "text": [
      "INFO:     127.0.0.1:54892 - \"GET /contexts/list HTTP/1.1\" 200 OK\n",
      "INFO:     127.0.0.1:54892 - \"GET /contexts/uuid/9b662c82-ef02-4a62-8f84-26880c61f936 HTTP/1.1\" 200 OK\n",
      "INFO:     127.0.0.1:54892 - \"GET /contexts/uuid/3a93613a-dab4-402b-97ec-2c72d2a2e939 HTTP/1.1\" 200 OK\n"
     ]
    }
   ],
   "source": [
    "@dataclass\n",
    "class Person:\n",
    "    name: str\n",
    "    age: int\n",
    "\n",
    "@with_context\n",
    "def say_hi(person):\n",
    "    return f\"Hi {person.name}!\"\n",
    "\n",
    "with Context(\"root\") as c:\n",
    "    person = Person(\"Alice\", 21)\n",
    "    say_hi(person)\n",
    "\n",
    "server.add_context(c)"
   ]
  },
  {
   "cell_type": "code",
   "execution_count": null,
   "id": "f4d75c6a-a40c-43e0-87b5-edbc7e6bc961",
   "metadata": {},
   "outputs": [],
   "source": [
    "# LLM queries\n",
    "\n",
    "engine = OpenAiChatEngine()\n",
    "\n",
    "with Context(\"root\") as c:\n",
    "        response = engine.query(\"Hi are you?\")\n",
    "        engine.query(\"Is the following text genereted by LLM?\\n\\n\" + response)\n",
    "show(c.to_dict())"
   ]
  },
  {
   "cell_type": "code",
   "execution_count": null,
   "id": "1ed4c300-3d66-4f3c-8b26-b3c16312b82e",
   "metadata": {
    "tags": []
   },
   "outputs": [],
   "source": [
    "# async LLM queries\n",
    "import asyncio \n",
    "\n",
    "engine1 = OpenAiChatEngine()\n",
    "engine2 = AnthropicEngine()\n",
    "\n",
    "@with_context\n",
    "async def make_queries(engine: QueryEngine):\n",
    "    response = await engine.aquery(\"Hi are you?\")\n",
    "    return await engine.aquery(\"Is this nice response?\\n\\n\" + response)  \n",
    "\n",
    "with Context(\"root\") as c:\n",
    "    q1 = make_queries(engine1)\n",
    "    q2 = make_queries(engine2)\n",
    "\n",
    "    await q1\n",
    "    await q2\n",
    "\n",
    "show(c.to_dict())"
   ]
  }
 ],
 "metadata": {
  "kernelspec": {
   "display_name": "Python 3 (ipykernel)",
   "language": "python",
   "name": "python3"
  },
  "language_info": {
   "codemirror_mode": {
    "name": "ipython",
    "version": 3
   },
   "file_extension": ".py",
   "mimetype": "text/x-python",
   "name": "python",
   "nbconvert_exporter": "python",
   "pygments_lexer": "ipython3",
   "version": "3.11.3"
  }
 },
 "nbformat": 4,
 "nbformat_minor": 5
}
