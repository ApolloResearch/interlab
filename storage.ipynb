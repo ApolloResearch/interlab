{
 "cells": [
  {
   "cell_type": "code",
   "execution_count": null,
   "id": "cb5de900-f1da-49bc-93d7-441b1b916e9f",
   "metadata": {},
   "outputs": [],
   "source": [
    "%load_ext autoreload\n",
    "%autoreload 2\n",
    "\n",
    "import logging\n",
    "logging.getLogger(\"querychains\").setLevel(logging.DEBUG)\n",
    "import querychains\n",
    "from querychains import with_context, Context, FileStorage, start_server"
   ]
  },
  {
   "cell_type": "code",
   "execution_count": null,
   "id": "fd4c505c-c596-43f2-8c40-f60861056b76",
   "metadata": {},
   "outputs": [],
   "source": [
    "storage = FileStorage(\"data\")\n",
    "storage"
   ]
  },
  {
   "cell_type": "code",
   "execution_count": null,
   "id": "94e6fe8f-d162-4625-be7c-47c4c9c218d1",
   "metadata": {},
   "outputs": [],
   "source": [
    "# Register context into storage\n",
    "\n",
    "with Context(\"root1\", storage=storage):\n",
    "    pass\n"
   ]
  },
  {
   "cell_type": "code",
   "execution_count": null,
   "id": "71de04ca-736e-4ab5-8dff-e7ff9cf12e0a",
   "metadata": {},
   "outputs": [],
   "source": [
    "# Manual writing context into storage\n",
    "\n",
    "with Context(\"root2\") as c:\n",
    "    pass\n",
    "\n",
    "storage.write_context(c)"
   ]
  },
  {
   "cell_type": "code",
   "execution_count": null,
   "id": "3677001b-a05b-477f-a2fa-b402957fbb76",
   "metadata": {},
   "outputs": [],
   "source": [
    "# Composing directory structure with contexts\n",
    "\n",
    "with Context(\"root3\", storage=storage, directory=True) as root:\n",
    "    with Context(\"first child\", directory=True):\n",
    "        with Context(\"a\"):\n",
    "            pass\n",
    "        with Context(\"b\"):\n",
    "            pass\n",
    "    with Context(\"second child\", directory=True):\n",
    "        with Context(\"a\"):\n",
    "            pass\n",
    "        with Context(\"b\"):\n",
    "            pass\n",
    "\n",
    "import pathlib\n",
    "list(pathlib.Path(f\"data/{root.uid}.ctx\").rglob(\"*\"))"
   ]
  },
  {
   "cell_type": "code",
   "execution_count": null,
   "id": "17acce52-64af-4571-ad77-ad0a7e7cdf4c",
   "metadata": {},
   "outputs": [],
   "source": []
  },
  {
   "cell_type": "code",
   "execution_count": null,
   "id": "e0cc23b9-27ef-4831-95ae-3dd7b61c1bc4",
   "metadata": {},
   "outputs": [],
   "source": []
  },
  {
   "cell_type": "code",
   "execution_count": null,
   "id": "a744a9ad-2ba5-4126-9678-27c34ba95224",
   "metadata": {},
   "outputs": [],
   "source": [
    "# Running data browser over storage\n",
    "\n",
    "server = start_server(storage=storage, port=5000)"
   ]
  },
  {
   "cell_type": "code",
   "execution_count": null,
   "id": "e0de2ec3-c51b-41f5-beb4-f95b9206ad4a",
   "metadata": {},
   "outputs": [],
   "source": []
  },
  {
   "cell_type": "code",
   "execution_count": null,
   "id": "ab026d55-1ada-4339-90d9-b1c2b9a93f63",
   "metadata": {},
   "outputs": [],
   "source": [
    "# Long running cell, you can observe it in browser in running state\n",
    "\n",
    "with Context(\"Long running\", storage=storage):\n",
    "    with Context(\"Child1\"):\n",
    "        import time\n",
    "        time.sleep(10)"
   ]
  },
  {
   "cell_type": "code",
   "execution_count": null,
   "id": "1a7e6a55-6869-45b5-9f26-74e55035b5b2",
   "metadata": {},
   "outputs": [],
   "source": []
  }
 ],
 "metadata": {
  "kernelspec": {
   "display_name": "Python 3 (ipykernel)",
   "language": "python",
   "name": "python3"
  },
  "language_info": {
   "codemirror_mode": {
    "name": "ipython",
    "version": 3
   },
   "file_extension": ".py",
   "mimetype": "text/x-python",
   "name": "python",
   "nbconvert_exporter": "python",
   "pygments_lexer": "ipython3",
   "version": "3.10.6"
  }
 },
 "nbformat": 4,
 "nbformat_minor": 5
}
