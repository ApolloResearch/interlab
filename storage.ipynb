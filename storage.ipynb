{
 "cells": [
  {
   "cell_type": "code",
   "execution_count": 1,
   "id": "cb5de900-f1da-49bc-93d7-441b1b916e9f",
   "metadata": {},
   "outputs": [],
   "source": [
    "%load_ext autoreload\n",
    "%autoreload 2\n",
    "\n",
    "import logging\n",
    "logging.getLogger(\"querychains\").setLevel(logging.DEBUG)\n",
    "import querychains\n",
    "from querychains import with_context, Context, FileStorage, start_server"
   ]
  },
  {
   "cell_type": "code",
   "execution_count": 2,
   "id": "fd4c505c-c596-43f2-8c40-f60861056b76",
   "metadata": {},
   "outputs": [
    {
     "data": {
      "text/plain": [
       "<FileStorage directory='/home/ada/projects/querychain/data'>"
      ]
     },
     "execution_count": 2,
     "metadata": {},
     "output_type": "execute_result"
    }
   ],
   "source": [
    "storage = FileStorage(\"data\")\n",
    "storage"
   ]
  },
  {
   "cell_type": "code",
   "execution_count": 3,
   "id": "94e6fe8f-d162-4625-be7c-47c4c9c218d1",
   "metadata": {},
   "outputs": [],
   "source": [
    "# Register context into storage\n",
    "\n",
    "with Context(\"root1\", storage=storage):\n",
    "    pass\n"
   ]
  },
  {
   "cell_type": "code",
   "execution_count": 4,
   "id": "71de04ca-736e-4ab5-8dff-e7ff9cf12e0a",
   "metadata": {},
   "outputs": [],
   "source": [
    "# Manual writing context into storage\n",
    "\n",
    "with Context(\"root2\") as c:\n",
    "    pass\n",
    "\n",
    "storage.write_context(c)"
   ]
  },
  {
   "cell_type": "code",
   "execution_count": null,
   "id": "3677001b-a05b-477f-a2fa-b402957fbb76",
   "metadata": {},
   "outputs": [],
   "source": []
  },
  {
   "cell_type": "code",
   "execution_count": 6,
   "id": "a744a9ad-2ba5-4126-9678-27c34ba95224",
   "metadata": {},
   "outputs": [
    {
     "name": "stderr",
     "output_type": "stream",
     "text": [
      "INFO:     Started server process [120844]\n",
      "INFO:     Waiting for application startup.\n",
      "INFO:     Application startup complete.\n",
      "INFO:     Uvicorn running on http://127.0.0.1:46759 (Press CTRL+C to quit)\n"
     ]
    },
    {
     "name": "stdout",
     "output_type": "stream",
     "text": [
      "INFO:     127.0.0.1:55326 - \"GET / HTTP/1.1\" 200 OK\n",
      "INFO:     127.0.0.1:55326 - \"GET /static/js/main.9895fe90.js HTTP/1.1\" 200 OK\n",
      "INFO:     127.0.0.1:55332 - \"GET /static/css/main.073c9b0a.css HTTP/1.1\" 200 OK\n",
      "INFO:     127.0.0.1:55332 - \"GET /contexts/list HTTP/1.1\" 200 OK\n",
      "INFO:     127.0.0.1:55332 - \"GET /logo192.png HTTP/1.1\" 200 OK\n",
      "INFO:     127.0.0.1:55326 - \"GET /favicon.ico HTTP/1.1\" 200 OK\n",
      "INFO:     127.0.0.1:55332 - \"GET /contexts/uuid/c64db2c8-5343-4e64-bf97-4de6199f225f HTTP/1.1\" 200 OK\n",
      "INFO:     127.0.0.1:55326 - \"GET /contexts/uuid/4954f653-8924-48c6-b6b7-71ca29d4922a HTTP/1.1\" 200 OK\n",
      "INFO:     127.0.0.1:55326 - \"GET /contexts/uuid/efa7b6fd-b8f8-4465-a085-f42683520c06 HTTP/1.1\" 200 OK\n",
      "INFO:     127.0.0.1:55326 - \"GET /contexts/uuid/cff44a31-5efd-4b3e-8098-b118b1ba9afd HTTP/1.1\" 200 OK\n",
      "INFO:     127.0.0.1:55326 - \"GET /contexts/uuid/56df9166-a677-44af-afc2-ff8addad3ed4 HTTP/1.1\" 200 OK\n",
      "INFO:     127.0.0.1:55326 - \"GET /contexts/uuid/e497c356-6e0c-45d8-ab6a-9ea32a98898a HTTP/1.1\" 200 OK\n",
      "INFO:     127.0.0.1:55326 - \"GET /contexts/uuid/8a356634-8256-4985-8380-99ea718382e0 HTTP/1.1\" 200 OK\n",
      "INFO:     127.0.0.1:55326 - \"GET /contexts/uuid/1ee5bdc9-6321-4084-90fe-c41aa297b594 HTTP/1.1\" 200 OK\n",
      "INFO:     127.0.0.1:55326 - \"GET /contexts/uuid/4954f653-8924-48c6-b6b7-71ca29d4922a HTTP/1.1\" 200 OK\n",
      "INFO:     127.0.0.1:55326 - \"GET /contexts/uuid/90f2b421-6bec-4160-86ae-378b86e78ad8 HTTP/1.1\" 200 OK\n",
      "INFO:     127.0.0.1:55326 - \"GET /contexts/uuid/c64db2c8-5343-4e64-bf97-4de6199f225f HTTP/1.1\" 200 OK\n",
      "INFO:     127.0.0.1:55326 - \"GET /contexts/uuid/90f2b421-6bec-4160-86ae-378b86e78ad8 HTTP/1.1\" 200 OK\n",
      "INFO:     127.0.0.1:55326 - \"GET /contexts/uuid/1ee5bdc9-6321-4084-90fe-c41aa297b594 HTTP/1.1\" 200 OK\n"
     ]
    }
   ],
   "source": [
    "# Running data browser over storage\n",
    "\n",
    "server = start_server(storage=storage)"
   ]
  },
  {
   "cell_type": "code",
   "execution_count": null,
   "id": "e0de2ec3-c51b-41f5-beb4-f95b9206ad4a",
   "metadata": {},
   "outputs": [],
   "source": []
  },
  {
   "cell_type": "code",
   "execution_count": null,
   "id": "ab026d55-1ada-4339-90d9-b1c2b9a93f63",
   "metadata": {},
   "outputs": [],
   "source": []
  },
  {
   "cell_type": "code",
   "execution_count": null,
   "id": "1a7e6a55-6869-45b5-9f26-74e55035b5b2",
   "metadata": {},
   "outputs": [],
   "source": []
  }
 ],
 "metadata": {
  "kernelspec": {
   "display_name": "Python 3 (ipykernel)",
   "language": "python",
   "name": "python3"
  },
  "language_info": {
   "codemirror_mode": {
    "name": "ipython",
    "version": 3
   },
   "file_extension": ".py",
   "mimetype": "text/x-python",
   "name": "python",
   "nbconvert_exporter": "python",
   "pygments_lexer": "ipython3",
   "version": "3.10.6"
  }
 },
 "nbformat": 4,
 "nbformat_minor": 5
}
