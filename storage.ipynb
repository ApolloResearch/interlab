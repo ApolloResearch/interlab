{
 "cells": [
  {
   "cell_type": "code",
   "execution_count": 2,
   "id": "cb5de900-f1da-49bc-93d7-441b1b916e9f",
   "metadata": {},
   "outputs": [],
   "source": [
    "%load_ext autoreload\n",
    "%autoreload 2\n",
    "\n",
    "import logging\n",
    "logging.getLogger(\"querychains\").setLevel(logging.DEBUG)\n",
    "import querychains\n",
    "from querychains import with_context, Context, FileStorage, start_server"
   ]
  },
  {
   "cell_type": "code",
   "execution_count": 4,
   "id": "fd4c505c-c596-43f2-8c40-f60861056b76",
   "metadata": {},
   "outputs": [
    {
     "data": {
      "text/plain": [
       "<FileStorage directory='/home/spirali/projects/querychain/data'>"
      ]
     },
     "execution_count": 4,
     "metadata": {},
     "output_type": "execute_result"
    }
   ],
   "source": [
    "storage = FileStorage(\"data\")\n",
    "storage"
   ]
  },
  {
   "cell_type": "code",
   "execution_count": 3,
   "id": "94e6fe8f-d162-4625-be7c-47c4c9c218d1",
   "metadata": {},
   "outputs": [],
   "source": [
    "# Register context into storage\n",
    "\n",
    "with Context(\"root1\", storage=storage):\n",
    "    pass\n"
   ]
  },
  {
   "cell_type": "code",
   "execution_count": 4,
   "id": "71de04ca-736e-4ab5-8dff-e7ff9cf12e0a",
   "metadata": {},
   "outputs": [],
   "source": [
    "# Manual writing context into storage\n",
    "\n",
    "with Context(\"root2\") as c:\n",
    "    pass\n",
    "\n",
    "storage.write_context(c)"
   ]
  },
  {
   "cell_type": "code",
   "execution_count": 6,
   "id": "3677001b-a05b-477f-a2fa-b402957fbb76",
   "metadata": {},
   "outputs": [
    {
     "data": {
      "text/plain": [
       "[PosixPath('data/389b6db6-7e2e-4fee-9ef8-69551045a326.ctx'),\n",
       " PosixPath('data/659cd046-22c2-4d7d-8c30-08141a65b1ee.ctx'),\n",
       " PosixPath('data/389b6db6-7e2e-4fee-9ef8-69551045a326.ctx/49f557d6-4708-4648-8655-f53a10f1125b.ctx'),\n",
       " PosixPath('data/389b6db6-7e2e-4fee-9ef8-69551045a326.ctx/_self.json.gz'),\n",
       " PosixPath('data/389b6db6-7e2e-4fee-9ef8-69551045a326.ctx/7a5e7b3b-a291-4b5c-9065-6739ab76c51a.ctx'),\n",
       " PosixPath('data/389b6db6-7e2e-4fee-9ef8-69551045a326.ctx/49f557d6-4708-4648-8655-f53a10f1125b.ctx/6ec462b6-d29d-4c42-90cf-c4bdb5328911.json.gz'),\n",
       " PosixPath('data/389b6db6-7e2e-4fee-9ef8-69551045a326.ctx/49f557d6-4708-4648-8655-f53a10f1125b.ctx/_self.json.gz'),\n",
       " PosixPath('data/389b6db6-7e2e-4fee-9ef8-69551045a326.ctx/49f557d6-4708-4648-8655-f53a10f1125b.ctx/8800260b-f5f4-4bbc-ae0f-8db2fc120d21.json.gz'),\n",
       " PosixPath('data/389b6db6-7e2e-4fee-9ef8-69551045a326.ctx/7a5e7b3b-a291-4b5c-9065-6739ab76c51a.ctx/e04eb1b1-b83b-4a51-a2fe-710af00a1336.json.gz'),\n",
       " PosixPath('data/389b6db6-7e2e-4fee-9ef8-69551045a326.ctx/7a5e7b3b-a291-4b5c-9065-6739ab76c51a.ctx/_self.json.gz'),\n",
       " PosixPath('data/389b6db6-7e2e-4fee-9ef8-69551045a326.ctx/7a5e7b3b-a291-4b5c-9065-6739ab76c51a.ctx/6c735b18-fedc-4675-b190-1bd6ec5fef4a.json.gz'),\n",
       " PosixPath('data/659cd046-22c2-4d7d-8c30-08141a65b1ee.ctx/69f62b47-2d50-4a55-a23f-b73d48b8708d.ctx'),\n",
       " PosixPath('data/659cd046-22c2-4d7d-8c30-08141a65b1ee.ctx/_self.json.gz'),\n",
       " PosixPath('data/659cd046-22c2-4d7d-8c30-08141a65b1ee.ctx/6d465e24-95dd-4b0d-a776-877d917091a5.ctx'),\n",
       " PosixPath('data/659cd046-22c2-4d7d-8c30-08141a65b1ee.ctx/69f62b47-2d50-4a55-a23f-b73d48b8708d.ctx/041690cb-0f8e-468f-98a7-8503b13b9b82.json.gz'),\n",
       " PosixPath('data/659cd046-22c2-4d7d-8c30-08141a65b1ee.ctx/69f62b47-2d50-4a55-a23f-b73d48b8708d.ctx/_self.json.gz'),\n",
       " PosixPath('data/659cd046-22c2-4d7d-8c30-08141a65b1ee.ctx/69f62b47-2d50-4a55-a23f-b73d48b8708d.ctx/a9aba4f7-b134-402b-9ca3-c22d9663a7f7.json.gz'),\n",
       " PosixPath('data/659cd046-22c2-4d7d-8c30-08141a65b1ee.ctx/6d465e24-95dd-4b0d-a776-877d917091a5.ctx/_self.json.gz'),\n",
       " PosixPath('data/659cd046-22c2-4d7d-8c30-08141a65b1ee.ctx/6d465e24-95dd-4b0d-a776-877d917091a5.ctx/af531437-4931-42ec-aea8-b5bf7bfeeb5a.json.gz'),\n",
       " PosixPath('data/659cd046-22c2-4d7d-8c30-08141a65b1ee.ctx/6d465e24-95dd-4b0d-a776-877d917091a5.ctx/f7f98040-fb91-4c87-b812-5e3768758beb.json.gz')]"
      ]
     },
     "execution_count": 6,
     "metadata": {},
     "output_type": "execute_result"
    }
   ],
   "source": [
    "# Composing directory structure with contexts\n",
    "\n",
    "with Context(\"root3\", storage=storage, directory=True):\n",
    "    with Context(\"first child\", directory=True):\n",
    "        with Context(\"a\"):\n",
    "            pass\n",
    "        with Context(\"b\"):\n",
    "            pass\n",
    "    with Context(\"second child\", directory=True):\n",
    "        with Context(\"a\"):\n",
    "            pass\n",
    "        with Context(\"b\"):\n",
    "            pass\n",
    "\n",
    "import pathlib\n",
    "list(pathlib.Path(f\"data/{}\").rglob(\"*\"))"
   ]
  },
  {
   "cell_type": "code",
   "execution_count": null,
   "id": "17acce52-64af-4571-ad77-ad0a7e7cdf4c",
   "metadata": {},
   "outputs": [],
   "source": []
  },
  {
   "cell_type": "code",
   "execution_count": null,
   "id": "e0cc23b9-27ef-4831-95ae-3dd7b61c1bc4",
   "metadata": {},
   "outputs": [],
   "source": []
  },
  {
   "cell_type": "code",
   "execution_count": 5,
   "id": "a744a9ad-2ba5-4126-9678-27c34ba95224",
   "metadata": {},
   "outputs": [
    {
     "name": "stderr",
     "output_type": "stream",
     "text": [
      "INFO:     Started server process [26052]\n",
      "INFO:     Waiting for application startup.\n",
      "INFO:     Application startup complete.\n",
      "INFO:     Uvicorn running on http://127.0.0.1:35627 (Press CTRL+C to quit)\n"
     ]
    }
   ],
   "source": [
    "# Running data browser over storage\n",
    "\n",
    "server = start_server(storage=storage)"
   ]
  },
  {
   "cell_type": "code",
   "execution_count": null,
   "id": "e0de2ec3-c51b-41f5-beb4-f95b9206ad4a",
   "metadata": {},
   "outputs": [],
   "source": []
  },
  {
   "cell_type": "code",
   "execution_count": null,
   "id": "ab026d55-1ada-4339-90d9-b1c2b9a93f63",
   "metadata": {},
   "outputs": [],
   "source": []
  },
  {
   "cell_type": "code",
   "execution_count": null,
   "id": "1a7e6a55-6869-45b5-9f26-74e55035b5b2",
   "metadata": {},
   "outputs": [],
   "source": []
  }
 ],
 "metadata": {
  "kernelspec": {
   "display_name": "Python 3 (ipykernel)",
   "language": "python",
   "name": "python3"
  },
  "language_info": {
   "codemirror_mode": {
    "name": "ipython",
    "version": 3
   },
   "file_extension": ".py",
   "mimetype": "text/x-python",
   "name": "python",
   "nbconvert_exporter": "python",
   "pygments_lexer": "ipython3",
   "version": "3.10.6"
  }
 },
 "nbformat": 4,
 "nbformat_minor": 5
}
